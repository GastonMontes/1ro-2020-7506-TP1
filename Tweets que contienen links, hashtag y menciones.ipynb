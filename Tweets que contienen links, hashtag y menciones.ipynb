{
 "cells": [
  {
   "cell_type": "markdown",
   "metadata": {},
   "source": [
    "# Tweets que contienen links, hashtag o menciones\n",
    "En el análisis general se descubrió que los tweets que tienen hipervínculos a webs externas, hashtags o menciones impactan sobre el valor medio de la columna target.\\\n",
    "En esta sección se analiza más en profundidad los tweets que contienen links, hashtags o menciones."
   ]
  },
  {
   "cell_type": "code",
   "execution_count": 71,
   "metadata": {},
   "outputs": [],
   "source": [
    "import pandas as pd"
   ]
  },
  {
   "cell_type": "code",
   "execution_count": 72,
   "metadata": {},
   "outputs": [],
   "source": [
    "# Replico la estructura de los tweets.\n",
    "tweets = spotify_songs = pd.read_csv('Data/train.csv')\n",
    "tweets['length'] = tweets['text'].str.len()\n",
    "tweets['located'] = tweets['location'].notnull().astype(int)\n",
    "tweets['location_length'] = tweets['location'].str.len()\n",
    "tweets['location_length'].fillna(0, inplace=True)\n",
    "tweets['has_keyword'] = tweets['keyword'].notnull().astype(int)\n",
    "tweets['keyword_length'] = tweets['keyword'].str.len()\n",
    "tweets['keyword_length'].fillna(0, inplace=True)\n",
    "tweets['tweet_length'] = tweets['length'] + tweets['location_length'] + tweets['keyword_length']"
   ]
  },
  {
   "cell_type": "code",
   "execution_count": 73,
   "metadata": {},
   "outputs": [
    {
     "data": {
      "text/html": [
       "<div>\n",
       "<style scoped>\n",
       "    .dataframe tbody tr th:only-of-type {\n",
       "        vertical-align: middle;\n",
       "    }\n",
       "\n",
       "    .dataframe tbody tr th {\n",
       "        vertical-align: top;\n",
       "    }\n",
       "\n",
       "    .dataframe thead th {\n",
       "        text-align: right;\n",
       "    }\n",
       "</style>\n",
       "<table border=\"1\" class=\"dataframe\">\n",
       "  <thead>\n",
       "    <tr style=\"text-align: right;\">\n",
       "      <th></th>\n",
       "      <th>id</th>\n",
       "      <th>keyword</th>\n",
       "      <th>location</th>\n",
       "      <th>text</th>\n",
       "      <th>target</th>\n",
       "      <th>length</th>\n",
       "      <th>located</th>\n",
       "      <th>location_length</th>\n",
       "      <th>has_keyword</th>\n",
       "      <th>keyword_length</th>\n",
       "      <th>tweet_length</th>\n",
       "    </tr>\n",
       "  </thead>\n",
       "  <tbody>\n",
       "    <tr>\n",
       "      <th>0</th>\n",
       "      <td>1</td>\n",
       "      <td>NaN</td>\n",
       "      <td>NaN</td>\n",
       "      <td>Our Deeds are the Reason of this #earthquake M...</td>\n",
       "      <td>1</td>\n",
       "      <td>69</td>\n",
       "      <td>0</td>\n",
       "      <td>0.0</td>\n",
       "      <td>0</td>\n",
       "      <td>0.0</td>\n",
       "      <td>69.0</td>\n",
       "    </tr>\n",
       "    <tr>\n",
       "      <th>1</th>\n",
       "      <td>4</td>\n",
       "      <td>NaN</td>\n",
       "      <td>NaN</td>\n",
       "      <td>Forest fire near La Ronge Sask. Canada</td>\n",
       "      <td>1</td>\n",
       "      <td>38</td>\n",
       "      <td>0</td>\n",
       "      <td>0.0</td>\n",
       "      <td>0</td>\n",
       "      <td>0.0</td>\n",
       "      <td>38.0</td>\n",
       "    </tr>\n",
       "    <tr>\n",
       "      <th>2</th>\n",
       "      <td>5</td>\n",
       "      <td>NaN</td>\n",
       "      <td>NaN</td>\n",
       "      <td>All residents asked to 'shelter in place' are ...</td>\n",
       "      <td>1</td>\n",
       "      <td>133</td>\n",
       "      <td>0</td>\n",
       "      <td>0.0</td>\n",
       "      <td>0</td>\n",
       "      <td>0.0</td>\n",
       "      <td>133.0</td>\n",
       "    </tr>\n",
       "    <tr>\n",
       "      <th>3</th>\n",
       "      <td>6</td>\n",
       "      <td>NaN</td>\n",
       "      <td>NaN</td>\n",
       "      <td>13,000 people receive #wildfires evacuation or...</td>\n",
       "      <td>1</td>\n",
       "      <td>65</td>\n",
       "      <td>0</td>\n",
       "      <td>0.0</td>\n",
       "      <td>0</td>\n",
       "      <td>0.0</td>\n",
       "      <td>65.0</td>\n",
       "    </tr>\n",
       "    <tr>\n",
       "      <th>4</th>\n",
       "      <td>7</td>\n",
       "      <td>NaN</td>\n",
       "      <td>NaN</td>\n",
       "      <td>Just got sent this photo from Ruby #Alaska as ...</td>\n",
       "      <td>1</td>\n",
       "      <td>88</td>\n",
       "      <td>0</td>\n",
       "      <td>0.0</td>\n",
       "      <td>0</td>\n",
       "      <td>0.0</td>\n",
       "      <td>88.0</td>\n",
       "    </tr>\n",
       "  </tbody>\n",
       "</table>\n",
       "</div>"
      ],
      "text/plain": [
       "   id keyword location                                               text  \\\n",
       "0   1     NaN      NaN  Our Deeds are the Reason of this #earthquake M...   \n",
       "1   4     NaN      NaN             Forest fire near La Ronge Sask. Canada   \n",
       "2   5     NaN      NaN  All residents asked to 'shelter in place' are ...   \n",
       "3   6     NaN      NaN  13,000 people receive #wildfires evacuation or...   \n",
       "4   7     NaN      NaN  Just got sent this photo from Ruby #Alaska as ...   \n",
       "\n",
       "   target  length  located  location_length  has_keyword  keyword_length  \\\n",
       "0       1      69        0              0.0            0             0.0   \n",
       "1       1      38        0              0.0            0             0.0   \n",
       "2       1     133        0              0.0            0             0.0   \n",
       "3       1      65        0              0.0            0             0.0   \n",
       "4       1      88        0              0.0            0             0.0   \n",
       "\n",
       "   tweet_length  \n",
       "0          69.0  \n",
       "1          38.0  \n",
       "2         133.0  \n",
       "3          65.0  \n",
       "4          88.0  "
      ]
     },
     "execution_count": 73,
     "metadata": {},
     "output_type": "execute_result"
    }
   ],
   "source": [
    "tweets.head()"
   ]
  },
  {
   "cell_type": "code",
   "execution_count": 74,
   "metadata": {},
   "outputs": [
    {
     "data": {
      "text/plain": [
       "id                 7613\n",
       "keyword            7552\n",
       "location           5080\n",
       "text               7613\n",
       "target             7613\n",
       "length             7613\n",
       "located            7613\n",
       "location_length    7613\n",
       "has_keyword        7613\n",
       "keyword_length     7613\n",
       "tweet_length       7613\n",
       "dtype: int64"
      ]
     },
     "execution_count": 74,
     "metadata": {},
     "output_type": "execute_result"
    }
   ],
   "source": [
    "tweets.count()"
   ]
  },
  {
   "cell_type": "code",
   "execution_count": 75,
   "metadata": {},
   "outputs": [
    {
     "data": {
      "text/plain": [
       "id                 3971\n",
       "keyword            3951\n",
       "location           2716\n",
       "text               3971\n",
       "target             3971\n",
       "length             3971\n",
       "located            3971\n",
       "location_length    3971\n",
       "has_keyword        3971\n",
       "keyword_length     3971\n",
       "tweet_length       3971\n",
       "dtype: int64"
      ]
     },
     "execution_count": 75,
     "metadata": {},
     "output_type": "execute_result"
    }
   ],
   "source": [
    "tweets_links = tweets[tweets['text'].str.contains('http')]\n",
    "tweets_links.count()"
   ]
  },
  {
   "cell_type": "code",
   "execution_count": 77,
   "metadata": {},
   "outputs": [
    {
     "data": {
      "text/html": [
       "<div>\n",
       "<style scoped>\n",
       "    .dataframe tbody tr th:only-of-type {\n",
       "        vertical-align: middle;\n",
       "    }\n",
       "\n",
       "    .dataframe tbody tr th {\n",
       "        vertical-align: top;\n",
       "    }\n",
       "\n",
       "    .dataframe thead th {\n",
       "        text-align: right;\n",
       "    }\n",
       "</style>\n",
       "<table border=\"1\" class=\"dataframe\">\n",
       "  <thead>\n",
       "    <tr style=\"text-align: right;\">\n",
       "      <th></th>\n",
       "      <th>id</th>\n",
       "      <th>keyword</th>\n",
       "      <th>location</th>\n",
       "      <th>text</th>\n",
       "      <th>target</th>\n",
       "      <th>length</th>\n",
       "      <th>located</th>\n",
       "      <th>location_length</th>\n",
       "      <th>has_keyword</th>\n",
       "      <th>keyword_length</th>\n",
       "      <th>tweet_length</th>\n",
       "    </tr>\n",
       "  </thead>\n",
       "  <tbody>\n",
       "    <tr>\n",
       "      <th>31</th>\n",
       "      <td>48</td>\n",
       "      <td>ablaze</td>\n",
       "      <td>Birmingham</td>\n",
       "      <td>@bbcmtd Wholesale Markets ablaze http://t.co/l...</td>\n",
       "      <td>1</td>\n",
       "      <td>55</td>\n",
       "      <td>1</td>\n",
       "      <td>10.0</td>\n",
       "      <td>1</td>\n",
       "      <td>6.0</td>\n",
       "      <td>71.0</td>\n",
       "    </tr>\n",
       "    <tr>\n",
       "      <th>32</th>\n",
       "      <td>49</td>\n",
       "      <td>ablaze</td>\n",
       "      <td>Est. September 2012 - Bristol</td>\n",
       "      <td>We always try to bring the heavy. #metal #RT h...</td>\n",
       "      <td>0</td>\n",
       "      <td>67</td>\n",
       "      <td>1</td>\n",
       "      <td>29.0</td>\n",
       "      <td>1</td>\n",
       "      <td>6.0</td>\n",
       "      <td>102.0</td>\n",
       "    </tr>\n",
       "    <tr>\n",
       "      <th>33</th>\n",
       "      <td>50</td>\n",
       "      <td>ablaze</td>\n",
       "      <td>AFRICA</td>\n",
       "      <td>#AFRICANBAZE: Breaking news:Nigeria flag set a...</td>\n",
       "      <td>1</td>\n",
       "      <td>82</td>\n",
       "      <td>1</td>\n",
       "      <td>6.0</td>\n",
       "      <td>1</td>\n",
       "      <td>6.0</td>\n",
       "      <td>94.0</td>\n",
       "    </tr>\n",
       "    <tr>\n",
       "      <th>35</th>\n",
       "      <td>53</td>\n",
       "      <td>ablaze</td>\n",
       "      <td>London, UK</td>\n",
       "      <td>On plus side LOOK AT THE SKY LAST NIGHT IT WAS...</td>\n",
       "      <td>0</td>\n",
       "      <td>76</td>\n",
       "      <td>1</td>\n",
       "      <td>10.0</td>\n",
       "      <td>1</td>\n",
       "      <td>6.0</td>\n",
       "      <td>92.0</td>\n",
       "    </tr>\n",
       "    <tr>\n",
       "      <th>37</th>\n",
       "      <td>55</td>\n",
       "      <td>ablaze</td>\n",
       "      <td>World Wide!!</td>\n",
       "      <td>INEC Office in Abia Set Ablaze - http://t.co/3...</td>\n",
       "      <td>1</td>\n",
       "      <td>55</td>\n",
       "      <td>1</td>\n",
       "      <td>12.0</td>\n",
       "      <td>1</td>\n",
       "      <td>6.0</td>\n",
       "      <td>73.0</td>\n",
       "    </tr>\n",
       "    <tr>\n",
       "      <th>38</th>\n",
       "      <td>56</td>\n",
       "      <td>ablaze</td>\n",
       "      <td>NaN</td>\n",
       "      <td>Barbados #Bridgetown JAMAICA ÛÒ Two cars set ...</td>\n",
       "      <td>1</td>\n",
       "      <td>140</td>\n",
       "      <td>0</td>\n",
       "      <td>0.0</td>\n",
       "      <td>1</td>\n",
       "      <td>6.0</td>\n",
       "      <td>146.0</td>\n",
       "    </tr>\n",
       "    <tr>\n",
       "      <th>40</th>\n",
       "      <td>59</td>\n",
       "      <td>ablaze</td>\n",
       "      <td>Live On Webcam</td>\n",
       "      <td>Check these out: http://t.co/rOI2NSmEJJ http:/...</td>\n",
       "      <td>0</td>\n",
       "      <td>114</td>\n",
       "      <td>1</td>\n",
       "      <td>14.0</td>\n",
       "      <td>1</td>\n",
       "      <td>6.0</td>\n",
       "      <td>134.0</td>\n",
       "    </tr>\n",
       "    <tr>\n",
       "      <th>44</th>\n",
       "      <td>64</td>\n",
       "      <td>ablaze</td>\n",
       "      <td>NaN</td>\n",
       "      <td>I wanted to set Chicago ablaze with my preachi...</td>\n",
       "      <td>0</td>\n",
       "      <td>92</td>\n",
       "      <td>0</td>\n",
       "      <td>0.0</td>\n",
       "      <td>1</td>\n",
       "      <td>6.0</td>\n",
       "      <td>98.0</td>\n",
       "    </tr>\n",
       "    <tr>\n",
       "      <th>45</th>\n",
       "      <td>65</td>\n",
       "      <td>ablaze</td>\n",
       "      <td>NaN</td>\n",
       "      <td>I gained 3 followers in the last week. You? Kn...</td>\n",
       "      <td>0</td>\n",
       "      <td>96</td>\n",
       "      <td>0</td>\n",
       "      <td>0.0</td>\n",
       "      <td>1</td>\n",
       "      <td>6.0</td>\n",
       "      <td>102.0</td>\n",
       "    </tr>\n",
       "    <tr>\n",
       "      <th>46</th>\n",
       "      <td>66</td>\n",
       "      <td>ablaze</td>\n",
       "      <td>GREENSBORO,NORTH CAROLINA</td>\n",
       "      <td>How the West was burned: Thousands of wildfire...</td>\n",
       "      <td>1</td>\n",
       "      <td>97</td>\n",
       "      <td>1</td>\n",
       "      <td>25.0</td>\n",
       "      <td>1</td>\n",
       "      <td>6.0</td>\n",
       "      <td>128.0</td>\n",
       "    </tr>\n",
       "  </tbody>\n",
       "</table>\n",
       "</div>"
      ],
      "text/plain": [
       "    id keyword                       location  \\\n",
       "31  48  ablaze                     Birmingham   \n",
       "32  49  ablaze  Est. September 2012 - Bristol   \n",
       "33  50  ablaze                         AFRICA   \n",
       "35  53  ablaze                     London, UK   \n",
       "37  55  ablaze                   World Wide!!   \n",
       "38  56  ablaze                            NaN   \n",
       "40  59  ablaze                 Live On Webcam   \n",
       "44  64  ablaze                            NaN   \n",
       "45  65  ablaze                            NaN   \n",
       "46  66  ablaze      GREENSBORO,NORTH CAROLINA   \n",
       "\n",
       "                                                 text  target  length  \\\n",
       "31  @bbcmtd Wholesale Markets ablaze http://t.co/l...       1      55   \n",
       "32  We always try to bring the heavy. #metal #RT h...       0      67   \n",
       "33  #AFRICANBAZE: Breaking news:Nigeria flag set a...       1      82   \n",
       "35  On plus side LOOK AT THE SKY LAST NIGHT IT WAS...       0      76   \n",
       "37  INEC Office in Abia Set Ablaze - http://t.co/3...       1      55   \n",
       "38  Barbados #Bridgetown JAMAICA ÛÒ Two cars set ...       1     140   \n",
       "40  Check these out: http://t.co/rOI2NSmEJJ http:/...       0     114   \n",
       "44  I wanted to set Chicago ablaze with my preachi...       0      92   \n",
       "45  I gained 3 followers in the last week. You? Kn...       0      96   \n",
       "46  How the West was burned: Thousands of wildfire...       1      97   \n",
       "\n",
       "    located  location_length  has_keyword  keyword_length  tweet_length  \n",
       "31        1             10.0            1             6.0          71.0  \n",
       "32        1             29.0            1             6.0         102.0  \n",
       "33        1              6.0            1             6.0          94.0  \n",
       "35        1             10.0            1             6.0          92.0  \n",
       "37        1             12.0            1             6.0          73.0  \n",
       "38        0              0.0            1             6.0         146.0  \n",
       "40        1             14.0            1             6.0         134.0  \n",
       "44        0              0.0            1             6.0          98.0  \n",
       "45        0              0.0            1             6.0         102.0  \n",
       "46        1             25.0            1             6.0         128.0  "
      ]
     },
     "execution_count": 77,
     "metadata": {},
     "output_type": "execute_result"
    }
   ],
   "source": [
    "tweets_links.head(10)"
   ]
  },
  {
   "cell_type": "code",
   "execution_count": 78,
   "metadata": {},
   "outputs": [
    {
     "data": {
      "text/plain": [
       "id                 1761\n",
       "keyword            1740\n",
       "location           1238\n",
       "text               1761\n",
       "target             1761\n",
       "length             1761\n",
       "located            1761\n",
       "location_length    1761\n",
       "has_keyword        1761\n",
       "keyword_length     1761\n",
       "tweet_length       1761\n",
       "dtype: int64"
      ]
     },
     "execution_count": 78,
     "metadata": {},
     "output_type": "execute_result"
    }
   ],
   "source": [
    "tweets_hashtag = tweets[tweets['text'].str.contains('#.*?(?=\\s|$)')]\n",
    "tweets_hashtag.count()"
   ]
  },
  {
   "cell_type": "code",
   "execution_count": 80,
   "metadata": {},
   "outputs": [
    {
     "data": {
      "text/html": [
       "<div>\n",
       "<style scoped>\n",
       "    .dataframe tbody tr th:only-of-type {\n",
       "        vertical-align: middle;\n",
       "    }\n",
       "\n",
       "    .dataframe tbody tr th {\n",
       "        vertical-align: top;\n",
       "    }\n",
       "\n",
       "    .dataframe thead th {\n",
       "        text-align: right;\n",
       "    }\n",
       "</style>\n",
       "<table border=\"1\" class=\"dataframe\">\n",
       "  <thead>\n",
       "    <tr style=\"text-align: right;\">\n",
       "      <th></th>\n",
       "      <th>id</th>\n",
       "      <th>keyword</th>\n",
       "      <th>location</th>\n",
       "      <th>text</th>\n",
       "      <th>target</th>\n",
       "      <th>length</th>\n",
       "      <th>located</th>\n",
       "      <th>location_length</th>\n",
       "      <th>has_keyword</th>\n",
       "      <th>keyword_length</th>\n",
       "      <th>tweet_length</th>\n",
       "    </tr>\n",
       "  </thead>\n",
       "  <tbody>\n",
       "    <tr>\n",
       "      <th>0</th>\n",
       "      <td>1</td>\n",
       "      <td>NaN</td>\n",
       "      <td>NaN</td>\n",
       "      <td>Our Deeds are the Reason of this #earthquake M...</td>\n",
       "      <td>1</td>\n",
       "      <td>69</td>\n",
       "      <td>0</td>\n",
       "      <td>0.0</td>\n",
       "      <td>0</td>\n",
       "      <td>0.0</td>\n",
       "      <td>69.0</td>\n",
       "    </tr>\n",
       "    <tr>\n",
       "      <th>3</th>\n",
       "      <td>6</td>\n",
       "      <td>NaN</td>\n",
       "      <td>NaN</td>\n",
       "      <td>13,000 people receive #wildfires evacuation or...</td>\n",
       "      <td>1</td>\n",
       "      <td>65</td>\n",
       "      <td>0</td>\n",
       "      <td>0.0</td>\n",
       "      <td>0</td>\n",
       "      <td>0.0</td>\n",
       "      <td>65.0</td>\n",
       "    </tr>\n",
       "    <tr>\n",
       "      <th>4</th>\n",
       "      <td>7</td>\n",
       "      <td>NaN</td>\n",
       "      <td>NaN</td>\n",
       "      <td>Just got sent this photo from Ruby #Alaska as ...</td>\n",
       "      <td>1</td>\n",
       "      <td>88</td>\n",
       "      <td>0</td>\n",
       "      <td>0.0</td>\n",
       "      <td>0</td>\n",
       "      <td>0.0</td>\n",
       "      <td>88.0</td>\n",
       "    </tr>\n",
       "    <tr>\n",
       "      <th>5</th>\n",
       "      <td>8</td>\n",
       "      <td>NaN</td>\n",
       "      <td>NaN</td>\n",
       "      <td>#RockyFire Update =&gt; California Hwy. 20 closed...</td>\n",
       "      <td>1</td>\n",
       "      <td>110</td>\n",
       "      <td>0</td>\n",
       "      <td>0.0</td>\n",
       "      <td>0</td>\n",
       "      <td>0.0</td>\n",
       "      <td>110.0</td>\n",
       "    </tr>\n",
       "    <tr>\n",
       "      <th>6</th>\n",
       "      <td>10</td>\n",
       "      <td>NaN</td>\n",
       "      <td>NaN</td>\n",
       "      <td>#flood #disaster Heavy rain causes flash flood...</td>\n",
       "      <td>1</td>\n",
       "      <td>95</td>\n",
       "      <td>0</td>\n",
       "      <td>0.0</td>\n",
       "      <td>0</td>\n",
       "      <td>0.0</td>\n",
       "      <td>95.0</td>\n",
       "    </tr>\n",
       "  </tbody>\n",
       "</table>\n",
       "</div>"
      ],
      "text/plain": [
       "   id keyword location                                               text  \\\n",
       "0   1     NaN      NaN  Our Deeds are the Reason of this #earthquake M...   \n",
       "3   6     NaN      NaN  13,000 people receive #wildfires evacuation or...   \n",
       "4   7     NaN      NaN  Just got sent this photo from Ruby #Alaska as ...   \n",
       "5   8     NaN      NaN  #RockyFire Update => California Hwy. 20 closed...   \n",
       "6  10     NaN      NaN  #flood #disaster Heavy rain causes flash flood...   \n",
       "\n",
       "   target  length  located  location_length  has_keyword  keyword_length  \\\n",
       "0       1      69        0              0.0            0             0.0   \n",
       "3       1      65        0              0.0            0             0.0   \n",
       "4       1      88        0              0.0            0             0.0   \n",
       "5       1     110        0              0.0            0             0.0   \n",
       "6       1      95        0              0.0            0             0.0   \n",
       "\n",
       "   tweet_length  \n",
       "0          69.0  \n",
       "3          65.0  \n",
       "4          88.0  \n",
       "5         110.0  \n",
       "6          95.0  "
      ]
     },
     "execution_count": 80,
     "metadata": {},
     "output_type": "execute_result"
    }
   ],
   "source": [
    "tweets_hashtag.head()"
   ]
  },
  {
   "cell_type": "code",
   "execution_count": 81,
   "metadata": {},
   "outputs": [
    {
     "data": {
      "text/plain": [
       "id                 2039\n",
       "keyword            2037\n",
       "location           1451\n",
       "text               2039\n",
       "target             2039\n",
       "length             2039\n",
       "located            2039\n",
       "location_length    2039\n",
       "has_keyword        2039\n",
       "keyword_length     2039\n",
       "tweet_length       2039\n",
       "dtype: int64"
      ]
     },
     "execution_count": 81,
     "metadata": {},
     "output_type": "execute_result"
    }
   ],
   "source": [
    "tweets_mentions = tweets[tweets['text'].str.contains('@.*?(?=\\s|$)')]\n",
    "tweets_mentions.count()"
   ]
  },
  {
   "cell_type": "code",
   "execution_count": 82,
   "metadata": {},
   "outputs": [
    {
     "data": {
      "text/html": [
       "<div>\n",
       "<style scoped>\n",
       "    .dataframe tbody tr th:only-of-type {\n",
       "        vertical-align: middle;\n",
       "    }\n",
       "\n",
       "    .dataframe tbody tr th {\n",
       "        vertical-align: top;\n",
       "    }\n",
       "\n",
       "    .dataframe thead th {\n",
       "        text-align: right;\n",
       "    }\n",
       "</style>\n",
       "<table border=\"1\" class=\"dataframe\">\n",
       "  <thead>\n",
       "    <tr style=\"text-align: right;\">\n",
       "      <th></th>\n",
       "      <th>id</th>\n",
       "      <th>keyword</th>\n",
       "      <th>location</th>\n",
       "      <th>text</th>\n",
       "      <th>target</th>\n",
       "      <th>length</th>\n",
       "      <th>located</th>\n",
       "      <th>location_length</th>\n",
       "      <th>has_keyword</th>\n",
       "      <th>keyword_length</th>\n",
       "      <th>tweet_length</th>\n",
       "    </tr>\n",
       "  </thead>\n",
       "  <tbody>\n",
       "    <tr>\n",
       "      <th>31</th>\n",
       "      <td>48</td>\n",
       "      <td>ablaze</td>\n",
       "      <td>Birmingham</td>\n",
       "      <td>@bbcmtd Wholesale Markets ablaze http://t.co/l...</td>\n",
       "      <td>1</td>\n",
       "      <td>55</td>\n",
       "      <td>1</td>\n",
       "      <td>10.0</td>\n",
       "      <td>1</td>\n",
       "      <td>6.0</td>\n",
       "      <td>71.0</td>\n",
       "    </tr>\n",
       "    <tr>\n",
       "      <th>36</th>\n",
       "      <td>54</td>\n",
       "      <td>ablaze</td>\n",
       "      <td>Pretoria</td>\n",
       "      <td>@PhDSquares #mufc they've built so much hype a...</td>\n",
       "      <td>0</td>\n",
       "      <td>122</td>\n",
       "      <td>1</td>\n",
       "      <td>8.0</td>\n",
       "      <td>1</td>\n",
       "      <td>6.0</td>\n",
       "      <td>136.0</td>\n",
       "    </tr>\n",
       "    <tr>\n",
       "      <th>43</th>\n",
       "      <td>63</td>\n",
       "      <td>ablaze</td>\n",
       "      <td>NaN</td>\n",
       "      <td>SOOOO PUMPED FOR ABLAZE ???? @southridgelife</td>\n",
       "      <td>0</td>\n",
       "      <td>44</td>\n",
       "      <td>0</td>\n",
       "      <td>0.0</td>\n",
       "      <td>1</td>\n",
       "      <td>6.0</td>\n",
       "      <td>50.0</td>\n",
       "    </tr>\n",
       "    <tr>\n",
       "      <th>54</th>\n",
       "      <td>78</td>\n",
       "      <td>ablaze</td>\n",
       "      <td>Abuja</td>\n",
       "      <td>Noches El-Bestia '@Alexis_Sanchez: happy to se...</td>\n",
       "      <td>0</td>\n",
       "      <td>130</td>\n",
       "      <td>1</td>\n",
       "      <td>5.0</td>\n",
       "      <td>1</td>\n",
       "      <td>6.0</td>\n",
       "      <td>141.0</td>\n",
       "    </tr>\n",
       "    <tr>\n",
       "      <th>57</th>\n",
       "      <td>81</td>\n",
       "      <td>ablaze</td>\n",
       "      <td>Sao Paulo, Brazil</td>\n",
       "      <td>Set our hearts ablaze and every city was a gif...</td>\n",
       "      <td>0</td>\n",
       "      <td>124</td>\n",
       "      <td>1</td>\n",
       "      <td>17.0</td>\n",
       "      <td>1</td>\n",
       "      <td>6.0</td>\n",
       "      <td>147.0</td>\n",
       "    </tr>\n",
       "  </tbody>\n",
       "</table>\n",
       "</div>"
      ],
      "text/plain": [
       "    id keyword           location  \\\n",
       "31  48  ablaze         Birmingham   \n",
       "36  54  ablaze           Pretoria   \n",
       "43  63  ablaze                NaN   \n",
       "54  78  ablaze              Abuja   \n",
       "57  81  ablaze  Sao Paulo, Brazil   \n",
       "\n",
       "                                                 text  target  length  \\\n",
       "31  @bbcmtd Wholesale Markets ablaze http://t.co/l...       1      55   \n",
       "36  @PhDSquares #mufc they've built so much hype a...       0     122   \n",
       "43       SOOOO PUMPED FOR ABLAZE ???? @southridgelife       0      44   \n",
       "54  Noches El-Bestia '@Alexis_Sanchez: happy to se...       0     130   \n",
       "57  Set our hearts ablaze and every city was a gif...       0     124   \n",
       "\n",
       "    located  location_length  has_keyword  keyword_length  tweet_length  \n",
       "31        1             10.0            1             6.0          71.0  \n",
       "36        1              8.0            1             6.0         136.0  \n",
       "43        0              0.0            1             6.0          50.0  \n",
       "54        1              5.0            1             6.0         141.0  \n",
       "57        1             17.0            1             6.0         147.0  "
      ]
     },
     "execution_count": 82,
     "metadata": {},
     "output_type": "execute_result"
    }
   ],
   "source": [
    "tweets_mentions.head()"
   ]
  },
  {
   "cell_type": "markdown",
   "metadata": {},
   "source": [
    "## Influencia de los tweets con links, hashtags y menciones sobre el valor del target\n",
    "Se analiza la influencia de tener un link, un hashtag o una mención en el texto del tweet sobre el valor del target.\\\n",
    "Se realizan gráficos que indiquen la cantidad de tweets verdaderos y falsos para el conjunto de tweets en general y luego para el conjunto de tweets que contienen links, hashtags o menciones:"
   ]
  },
  {
   "cell_type": "code",
   "execution_count": 32,
   "metadata": {},
   "outputs": [
    {
     "name": "stdout",
     "output_type": "stream",
     "text": [
      "7613\n",
      "3271\n",
      "4342\n"
     ]
    }
   ],
   "source": [
    "# Tweet en general.\n",
    "true_tweets = tweets['target'].sum()\n",
    "false_tweets = tweets['target'].count() - true_tweets\n",
    "print(tweets['target'].count())\n",
    "print(true_tweets)\n",
    "print(false_tweets)"
   ]
  },
  {
   "cell_type": "code",
   "execution_count": 84,
   "metadata": {},
   "outputs": [
    {
     "name": "stdout",
     "output_type": "stream",
     "text": [
      "3971\n",
      "2172\n",
      "1799\n"
     ]
    }
   ],
   "source": [
    "# Tweets con links.\n",
    "true_link_tweets = tweets_links['target'].sum()\n",
    "false_link_tweets = tweets_links['target'].count() - true_link_tweets\n",
    "print(tweets_links['target'].count())\n",
    "print(true_link_tweets)\n",
    "print(false_link_tweets)"
   ]
  },
  {
   "cell_type": "code",
   "execution_count": 85,
   "metadata": {},
   "outputs": [
    {
     "name": "stdout",
     "output_type": "stream",
     "text": [
      "1761\n",
      "875\n",
      "886\n"
     ]
    }
   ],
   "source": [
    "# Tweets con hashtags.\n",
    "true_hashtag_tweets = tweets_hashtag['target'].sum()\n",
    "false_hashtag_tweets = tweets_hashtag['target'].count() - true_hashtag_tweets\n",
    "print(tweets_hashtag['target'].count())\n",
    "print(true_hashtag_tweets)\n",
    "print(false_hashtag_tweets)"
   ]
  },
  {
   "cell_type": "code",
   "execution_count": 86,
   "metadata": {},
   "outputs": [
    {
     "name": "stdout",
     "output_type": "stream",
     "text": [
      "2039\n",
      "676\n",
      "1363\n"
     ]
    }
   ],
   "source": [
    "# Tweets con menciones.\n",
    "true_mentions_tweets = tweets_mentions['target'].sum()\n",
    "false_mentions_tweets = tweets_mentions['target'].count() - true_mentions_tweets\n",
    "print(tweets_mentions['target'].count())\n",
    "print(true_mentions_tweets)\n",
    "print(false_mentions_tweets)"
   ]
  },
  {
   "cell_type": "code",
   "execution_count": 117,
   "metadata": {},
   "outputs": [
    {
     "data": {
      "text/plain": [
       "Text(0, 0.5, 'Frecuencia del Target')"
      ]
     },
     "execution_count": 117,
     "metadata": {},
     "output_type": "execute_result"
    },
    {
     "data": {
      "image/png": "[encoded data removed]",
      "text/plain": [
       "<Figure size 1440x864 with 1 Axes>"
      ]
     },
     "metadata": {
      "needs_background": "light"
     },
     "output_type": "display_data"
    }
   ],
   "source": [
    "plot_index = ['General', 'Links', 'Hashtag', 'Menciones']\n",
    "plot_data_true = [ true_tweets, true_link_tweets, true_hashtag_tweets, true_mentions_tweets ]\n",
    "plot_data_false = [ false_tweets, false_link_tweets, false_hashtag_tweets, false_mentions_tweets ]\n",
    "plot_data = { 'Real' : plot_data_true, 'Falso' : plot_data_false }\n",
    "plot_dataframe = pd.DataFrame(plot_data, index=plot_index)\n",
    "plot = plot_dataframe.plot(kind='bar',\\\n",
    "                           fontsize=12,\\\n",
    "                           linewidth=2,\\\n",
    "                           figsize=(20,12),\\\n",
    "                           stacked=False)\n",
    "plot.set_title('Tweet reales y falsos para el dataset general y para el dataset solo con tweets que contienen links, hashtag o menciones', fontsize=20)\n",
    "plot.set_xlabel(\"Tweets reales y falsos\", fontsize=20)\n",
    "plot.set_ylabel(\"Frecuencia del Target\", fontsize=20)"
   ]
  },
  {
   "cell_type": "code",
   "execution_count": 157,
   "metadata": {},
   "outputs": [
    {
     "data": {
      "image/png": "[encoded data removed]",
      "text/plain": [
       "<Figure size 1224x288 with 4 Axes>"
      ]
     },
     "metadata": {},
     "output_type": "display_data"
    }
   ],
   "source": [
    "plot_data_general = [ true_tweets, false_tweets ]\n",
    "plot_data_links = [ true_link_tweets, false_link_tweets ]\n",
    "plot_data_hashtag = [ true_hashtag_tweets, false_hashtag_tweets ]\n",
    "plot_data_mentions = [ true_mentions_tweets, false_mentions_tweets ]\n",
    "plot_data_index = [ 'Real', 'Falso' ]\n",
    "plot_data = { 'General' : plot_data_general, 'Links' : plot_data_links, 'Hashtag' : plot_data_hashtag, 'Menciones' : plot_data_mentions }\n",
    "plot_dataframe = pd.DataFrame(plot_data, index=plot_data_index)\n",
    "plot = plot_dataframe.plot.pie(subplots=True,\\\n",
    "                               figsize=(17, 4), \\\n",
    "                               title='Comparación del valor del target para tweets en general, tweets con link, hashtag y/o menciones',\\\n",
    "                               fontsize=0)"
   ]
  },
  {
   "cell_type": "markdown",
   "metadata": {},
   "source": [
    "En los gráficos se ve que para los tweets con link existen mayor cantidad de tweets que hacen referencia a tweets de desastre reales.\\\n",
    "Para los tweets con hashtags la proporción de tweets reales vs tweets falsos es casi de un 50/50, la cantidad de tweets falsos es ínfimamente superior a aquellos que refieren a desastres reales.\\\n",
    "En los tweets que tienen menciones la cantidad de tweets que no refieren a un desastre real duplican a los que si refieren a un desastre real."
   ]
  }
 ],
 "metadata": {
  "kernelspec": {
   "display_name": "Python 3",
   "language": "python",
   "name": "python3"
  },
  "language_info": {
   "codemirror_mode": {
    "name": "ipython",
    "version": 3
   },
   "file_extension": ".py",
   "mimetype": "text/x-python",
   "name": "python",
   "nbconvert_exporter": "python",
   "pygments_lexer": "ipython3",
   "version": "3.7.6"
  }
 },
 "nbformat": 4,
 "nbformat_minor": 4
}
