{
 "cells": [
  {
   "cell_type": "code",
   "execution_count": 47,
   "metadata": {},
   "outputs": [],
   "source": [
    "import pandas as pd\n",
    "import numpy as np\n",
    "import matplotlib.pyplot as plt\n",
    "import seaborn as sns"
   ]
  },
  {
   "cell_type": "code",
   "execution_count": 48,
   "metadata": {},
   "outputs": [],
   "source": [
    "tweet = pd.read_csv('Data/train.csv')"
   ]
  },
  {
   "cell_type": "code",
   "execution_count": 49,
   "metadata": {},
   "outputs": [
    {
     "data": {
      "text/plain": [
       "id             0\n",
       "keyword       61\n",
       "location    2533\n",
       "text           0\n",
       "target         0\n",
       "dtype: int64"
      ]
     },
     "execution_count": 49,
     "metadata": {},
     "output_type": "execute_result"
    }
   ],
   "source": [
    "tweet.isnull().sum()"
   ]
  },
  {
   "cell_type": "markdown",
   "metadata": {},
   "source": [
    "**keyword y location** tienen valores nulos"
   ]
  },
  {
   "cell_type": "markdown",
   "metadata": {},
   "source": [
    "Para este analisis solo nos quedamos con los campos **text y target**"
   ]
  },
  {
   "cell_type": "code",
   "execution_count": 50,
   "metadata": {},
   "outputs": [],
   "source": [
    "tweet = tweet[['text','target']]"
   ]
  },
  {
   "cell_type": "markdown",
   "metadata": {},
   "source": [
    "Agregamos los campos.\n",
    "\n",
    "**logitud_tweet**: Cantidad de caracteres del tweet\n",
    "\n",
    "**cant_palabras**: Cantidad de palabras del tweet\n",
    "\n",
    "**long_min_palabras**: Es la longitud minima de la palabra mas chica del tweet\n",
    "\n",
    "**long_max_palabras**: Es la longitud maxima de la palabra mas grande del tweet\n",
    "\n",
    "**long_prom_palabras**: Es la longitud promedio de las palabras del tweet"
   ]
  },
  {
   "cell_type": "code",
   "execution_count": 52,
   "metadata": {},
   "outputs": [],
   "source": [
    "tweet['longitud_tweet'] = tweet['text'].str.len()\n",
    "tweet['cant_palabras'] = tweet['text'].str.split().map(lambda x: len(x))\n",
    "tweet['long_min_palabras'] = tweet['text'].str.split().apply(lambda x : [len(i) for i in x]).map(lambda x: np.min(x)).astype(int)\n",
    "tweet['long_max_palabras'] = tweet['text'].str.split().apply(lambda x : [len(i) for i in x]).map(lambda x: np.max(x)).astype(int)\n",
    "tweet['long_prom_palabras'] = tweet['text'].str.split().apply(lambda x : [len(i) for i in x]).map(lambda x: np.mean(x))"
   ]
  },
  {
   "cell_type": "code",
   "execution_count": 110,
   "metadata": {},
   "outputs": [
    {
     "data": {
      "text/plain": [
       "22    0.458295\n",
       "9     0.063838\n",
       "10    0.061999\n",
       "23    0.058190\n",
       "11    0.055563\n",
       "12    0.051228\n",
       "8     0.044792\n",
       "13    0.041377\n",
       "14    0.034283\n",
       "15    0.028898\n",
       "7     0.028110\n",
       "16    0.027716\n",
       "6     0.011822\n",
       "5     0.006174\n",
       "17    0.005123\n",
       "18    0.003547\n",
       "20    0.002627\n",
       "19    0.002627\n",
       "24    0.001839\n",
       "25    0.001708\n",
       "28    0.001314\n",
       "21    0.001314\n",
       "4     0.001314\n",
       "26    0.001314\n",
       "27    0.001051\n",
       "29    0.000657\n",
       "31    0.000657\n",
       "30    0.000525\n",
       "34    0.000394\n",
       "41    0.000263\n",
       "37    0.000131\n",
       "50    0.000131\n",
       "3     0.000131\n",
       "62    0.000131\n",
       "56    0.000131\n",
       "42    0.000131\n",
       "40    0.000131\n",
       "33    0.000131\n",
       "35    0.000131\n",
       "57    0.000131\n",
       "43    0.000131\n",
       "Name: long_max_palabras, dtype: float64"
      ]
     },
     "execution_count": 110,
     "metadata": {},
     "output_type": "execute_result"
    }
   ],
   "source": [
    "tweet['long_max_palabras'].value_counts(normalize=True)"
   ]
  },
  {
   "cell_type": "markdown",
   "metadata": {},
   "source": [
    "Tenemos 3489 tweet con una longitud maxima de palabra 22 el cual representa casi un 46% de los tweet totales lo cual resulta alto si consideramos que solo estamos tomando un solo atrinuto de los tweet en este caso las palabras de longitud maxima igual a 22.\n",
    "\n",
    "Si miramos estos tweet podemos ver que contienen una url lo cual resulta sospechoso"
   ]
  }
 ],
 "metadata": {
  "kernelspec": {
   "display_name": "Python 3",
   "language": "python",
   "name": "python3"
  },
  "language_info": {
   "codemirror_mode": {
    "name": "ipython",
    "version": 3
   },
   "file_extension": ".py",
   "mimetype": "text/x-python",
   "name": "python",
   "nbconvert_exporter": "python",
   "pygments_lexer": "ipython3",
   "version": "3.7.3"
  }
 },
 "nbformat": 4,
 "nbformat_minor": 4
}
