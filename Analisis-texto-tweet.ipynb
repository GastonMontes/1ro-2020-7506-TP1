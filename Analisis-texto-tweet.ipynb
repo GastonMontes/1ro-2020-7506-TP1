{
 "cells": [
  {
   "cell_type": "code",
   "execution_count": 1,
   "metadata": {},
   "outputs": [],
   "source": [
    "import pandas as pd\n",
    "import numpy as np\n",
    "import matplotlib.pyplot as plt\n",
    "import seaborn as sns"
   ]
  },
  {
   "cell_type": "code",
   "execution_count": 2,
   "metadata": {},
   "outputs": [],
   "source": [
<<<<<<< HEAD
    "tweet = pd.read_csv('Data/train.csv')"
=======
    "tweets = pd.read_csv('./train.csv')"
>>>>>>> riluizaga
   ]
  },
  {
   "cell_type": "code",
   "execution_count": 3,
   "metadata": {},
   "outputs": [
    {
     "data": {
      "text/plain": [
       "id             0\n",
       "keyword       61\n",
       "location    2533\n",
       "text           0\n",
       "target         0\n",
       "dtype: int64"
      ]
     },
     "execution_count": 3,
     "metadata": {},
     "output_type": "execute_result"
    }
   ],
   "source": [
    "tweets.isnull().sum()"
   ]
  },
  {
   "cell_type": "markdown",
   "metadata": {},
   "source": [
    "**keyword y location** tienen valores nulos"
   ]
  },
  {
   "cell_type": "markdown",
   "metadata": {},
   "source": [
    "Para este analisis solo nos quedamos con los campos **text y target**"
   ]
  },
  {
   "cell_type": "code",
   "execution_count": 4,
   "metadata": {},
   "outputs": [],
   "source": [
    "tweets = tweets[['text','target']]"
   ]
  },
  {
   "cell_type": "markdown",
   "metadata": {},
   "source": [
    "Agregamos los campos.\n",
    "\n",
    "**logitud_tweet**: Cantidad de caracteres del tweet\n",
    "\n",
    "**cant_palabras**: Cantidad de palabras del tweet\n",
    "\n",
    "**long_min_palabras**: Es la longitud minima de la palabra mas chica del tweet\n",
    "\n",
    "**long_max_palabras**: Es la longitud maxima de la palabra mas grande del tweet\n",
    "\n",
    "**long_prom_palabras**: Es la longitud promedio de las palabras del tweet"
   ]
  },
  {
   "cell_type": "code",
   "execution_count": 5,
   "metadata": {},
   "outputs": [],
   "source": [
    "tweets['tweet_length'] = tweets['text'].str.len()\n",
    "tweets['number_words'] = tweets['text'].str.split().map(lambda x: len(x))\n",
    "tweets['min_length_words'] = tweets['text'].str.split().apply(lambda x : [len(i) for i in x]).map(lambda x: np.min(x)).astype(int)\n",
    "tweets['max_length_words'] = tweets['text'].str.split().apply(lambda x : [len(i) for i in x]).map(lambda x: np.max(x)).astype(int)\n",
    "tweets['avg_length_words'] = tweets['text'].str.split().apply(lambda x : [len(i) for i in x]).map(lambda x: np.mean(x))"
   ]
  },
  {
   "cell_type": "markdown",
   "metadata": {},
   "source": [
    "# Longitud de los Tweets"
   ]
  },
  {
   "cell_type": "code",
   "execution_count": 6,
   "metadata": {},
   "outputs": [
    {
     "data": {
      "text/html": [
       "<div>\n",
       "<style scoped>\n",
       "    .dataframe tbody tr th:only-of-type {\n",
       "        vertical-align: middle;\n",
       "    }\n",
       "\n",
       "    .dataframe tbody tr th {\n",
       "        vertical-align: top;\n",
       "    }\n",
       "\n",
       "    .dataframe thead th {\n",
       "        text-align: right;\n",
       "    }\n",
       "</style>\n",
       "<table border=\"1\" class=\"dataframe\">\n",
       "  <thead>\n",
       "    <tr style=\"text-align: right;\">\n",
       "      <th></th>\n",
       "      <th>text</th>\n",
       "      <th>tweet_length</th>\n",
       "    </tr>\n",
       "  </thead>\n",
       "  <tbody>\n",
       "    <tr>\n",
       "      <th>0</th>\n",
       "      <td>Our Deeds are the Reason of this #earthquake M...</td>\n",
       "      <td>69</td>\n",
       "    </tr>\n",
       "    <tr>\n",
       "      <th>1</th>\n",
       "      <td>Forest fire near La Ronge Sask. Canada</td>\n",
       "      <td>38</td>\n",
       "    </tr>\n",
       "    <tr>\n",
       "      <th>2</th>\n",
       "      <td>All residents asked to 'shelter in place' are ...</td>\n",
       "      <td>133</td>\n",
       "    </tr>\n",
       "    <tr>\n",
       "      <th>3</th>\n",
       "      <td>13,000 people receive #wildfires evacuation or...</td>\n",
       "      <td>65</td>\n",
       "    </tr>\n",
       "    <tr>\n",
       "      <th>4</th>\n",
       "      <td>Just got sent this photo from Ruby #Alaska as ...</td>\n",
       "      <td>88</td>\n",
       "    </tr>\n",
       "    <tr>\n",
       "      <th>...</th>\n",
       "      <td>...</td>\n",
       "      <td>...</td>\n",
       "    </tr>\n",
       "    <tr>\n",
       "      <th>7608</th>\n",
       "      <td>Two giant cranes holding a bridge collapse int...</td>\n",
       "      <td>83</td>\n",
       "    </tr>\n",
       "    <tr>\n",
       "      <th>7609</th>\n",
       "      <td>@aria_ahrary @TheTawniest The out of control w...</td>\n",
       "      <td>125</td>\n",
       "    </tr>\n",
       "    <tr>\n",
       "      <th>7610</th>\n",
       "      <td>M1.94 [01:04 UTC]?5km S of Volcano Hawaii. htt...</td>\n",
       "      <td>65</td>\n",
       "    </tr>\n",
       "    <tr>\n",
       "      <th>7611</th>\n",
       "      <td>Police investigating after an e-bike collided ...</td>\n",
       "      <td>137</td>\n",
       "    </tr>\n",
       "    <tr>\n",
       "      <th>7612</th>\n",
       "      <td>The Latest: More Homes Razed by Northern Calif...</td>\n",
       "      <td>94</td>\n",
       "    </tr>\n",
       "  </tbody>\n",
       "</table>\n",
       "<p>7613 rows × 2 columns</p>\n",
       "</div>"
      ],
      "text/plain": [
       "                                                   text  tweet_length\n",
       "0     Our Deeds are the Reason of this #earthquake M...            69\n",
       "1                Forest fire near La Ronge Sask. Canada            38\n",
       "2     All residents asked to 'shelter in place' are ...           133\n",
       "3     13,000 people receive #wildfires evacuation or...            65\n",
       "4     Just got sent this photo from Ruby #Alaska as ...            88\n",
       "...                                                 ...           ...\n",
       "7608  Two giant cranes holding a bridge collapse int...            83\n",
       "7609  @aria_ahrary @TheTawniest The out of control w...           125\n",
       "7610  M1.94 [01:04 UTC]?5km S of Volcano Hawaii. htt...            65\n",
       "7611  Police investigating after an e-bike collided ...           137\n",
       "7612  The Latest: More Homes Razed by Northern Calif...            94\n",
       "\n",
       "[7613 rows x 2 columns]"
      ]
     },
     "execution_count": 6,
     "metadata": {},
     "output_type": "execute_result"
    }
   ],
   "source": [
    "tweets[['text','tweet_length']]"
   ]
  },
  {
   "cell_type": "code",
   "execution_count": 7,
   "metadata": {},
   "outputs": [
    {
     "data": {
      "image/png": "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\n",
      "text/plain": [
       "<Figure size 720x360 with 1 Axes>"
      ]
     },
     "metadata": {
      "needs_background": "light"
     },
     "output_type": "display_data"
    }
   ],
   "source": [
    "fig,ax=plt.subplots(1,1,figsize=(10,5))\n",
    "sns.distplot(tweets[tweets['target']==1].tweet_length,label='Desastre real',color='red')\n",
    "sns.distplot(tweets[tweets['target']==0].tweet_length,label='Desastre falso',color='blue')\n",
    "ax.legend()\n",
    "fig.suptitle('Longitud de las palabras del tweet')\n",
    "plt.show()"
   ]
  },
  {
   "cell_type": "markdown",
   "metadata": {},
   "source": [
    "# Cantidad de palabras en el Tweet"
   ]
  },
  {
   "cell_type": "code",
   "execution_count": 8,
   "metadata": {},
   "outputs": [
    {
     "data": {
      "text/html": [
       "<div>\n",
       "<style scoped>\n",
       "    .dataframe tbody tr th:only-of-type {\n",
       "        vertical-align: middle;\n",
       "    }\n",
       "\n",
       "    .dataframe tbody tr th {\n",
       "        vertical-align: top;\n",
       "    }\n",
       "\n",
       "    .dataframe thead th {\n",
       "        text-align: right;\n",
       "    }\n",
       "</style>\n",
       "<table border=\"1\" class=\"dataframe\">\n",
       "  <thead>\n",
       "    <tr style=\"text-align: right;\">\n",
       "      <th></th>\n",
       "      <th>text</th>\n",
       "      <th>number_words</th>\n",
       "    </tr>\n",
       "  </thead>\n",
       "  <tbody>\n",
       "    <tr>\n",
       "      <th>0</th>\n",
       "      <td>Our Deeds are the Reason of this #earthquake M...</td>\n",
       "      <td>13</td>\n",
       "    </tr>\n",
       "    <tr>\n",
       "      <th>1</th>\n",
       "      <td>Forest fire near La Ronge Sask. Canada</td>\n",
       "      <td>7</td>\n",
       "    </tr>\n",
       "    <tr>\n",
       "      <th>2</th>\n",
       "      <td>All residents asked to 'shelter in place' are ...</td>\n",
       "      <td>22</td>\n",
       "    </tr>\n",
       "    <tr>\n",
       "      <th>3</th>\n",
       "      <td>13,000 people receive #wildfires evacuation or...</td>\n",
       "      <td>8</td>\n",
       "    </tr>\n",
       "    <tr>\n",
       "      <th>4</th>\n",
       "      <td>Just got sent this photo from Ruby #Alaska as ...</td>\n",
       "      <td>16</td>\n",
       "    </tr>\n",
       "    <tr>\n",
       "      <th>...</th>\n",
       "      <td>...</td>\n",
       "      <td>...</td>\n",
       "    </tr>\n",
       "    <tr>\n",
       "      <th>7608</th>\n",
       "      <td>Two giant cranes holding a bridge collapse int...</td>\n",
       "      <td>11</td>\n",
       "    </tr>\n",
       "    <tr>\n",
       "      <th>7609</th>\n",
       "      <td>@aria_ahrary @TheTawniest The out of control w...</td>\n",
       "      <td>20</td>\n",
       "    </tr>\n",
       "    <tr>\n",
       "      <th>7610</th>\n",
       "      <td>M1.94 [01:04 UTC]?5km S of Volcano Hawaii. htt...</td>\n",
       "      <td>8</td>\n",
       "    </tr>\n",
       "    <tr>\n",
       "      <th>7611</th>\n",
       "      <td>Police investigating after an e-bike collided ...</td>\n",
       "      <td>19</td>\n",
       "    </tr>\n",
       "    <tr>\n",
       "      <th>7612</th>\n",
       "      <td>The Latest: More Homes Razed by Northern Calif...</td>\n",
       "      <td>13</td>\n",
       "    </tr>\n",
       "  </tbody>\n",
       "</table>\n",
       "<p>7613 rows × 2 columns</p>\n",
       "</div>"
      ],
      "text/plain": [
       "                                                   text  number_words\n",
       "0     Our Deeds are the Reason of this #earthquake M...            13\n",
       "1                Forest fire near La Ronge Sask. Canada             7\n",
       "2     All residents asked to 'shelter in place' are ...            22\n",
       "3     13,000 people receive #wildfires evacuation or...             8\n",
       "4     Just got sent this photo from Ruby #Alaska as ...            16\n",
       "...                                                 ...           ...\n",
       "7608  Two giant cranes holding a bridge collapse int...            11\n",
       "7609  @aria_ahrary @TheTawniest The out of control w...            20\n",
       "7610  M1.94 [01:04 UTC]?5km S of Volcano Hawaii. htt...             8\n",
       "7611  Police investigating after an e-bike collided ...            19\n",
       "7612  The Latest: More Homes Razed by Northern Calif...            13\n",
       "\n",
       "[7613 rows x 2 columns]"
      ]
     },
     "execution_count": 8,
     "metadata": {},
     "output_type": "execute_result"
    }
   ],
   "source": [
    "tweets[['text','number_words']]"
   ]
  },
  {
   "cell_type": "code",
   "execution_count": 9,
   "metadata": {},
   "outputs": [
    {
     "data": {
      "text/plain": [
       "11    497\n",
       "18    494\n",
       "17    494\n",
       "16    451\n",
       "14    450\n",
       "13    445\n",
       "15    425\n",
       "12    415\n",
       "20    409\n",
       "19    390\n",
       "9     363\n",
       "10    334\n",
       "21    296\n",
       "8     293\n",
       "22    279\n",
       "7     242\n",
       "23    220\n",
       "24    189\n",
       "6     186\n",
       "5     159\n",
       "25    129\n",
       "4     115\n",
       "26     98\n",
       "3      75\n",
       "27     60\n",
       "28     41\n",
       "2      34\n",
       "29     13\n",
       "1       8\n",
       "30      6\n",
       "31      3\n",
       "Name: number_words, dtype: int64"
      ]
     },
     "execution_count": 9,
     "metadata": {},
     "output_type": "execute_result"
    }
   ],
   "source": [
    "tweets['number_words'].value_counts()"
   ]
  },
  {
   "cell_type": "code",
   "execution_count": 11,
   "metadata": {},
   "outputs": [
    {
     "data": {
      "image/png": "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\n",
      "text/plain": [
       "<Figure size 720x360 with 1 Axes>"
      ]
     },
     "metadata": {
      "needs_background": "light"
     },
     "output_type": "display_data"
    }
   ],
   "source": [
    "fig,ax=plt.subplots(1,1,figsize=(10,5))\n",
    "sns.distplot(tweets[tweets['target']==1].number_words,label='Desastre real',color='red')\n",
    "sns.distplot(tweets[tweets['target']==0].number_words,label='Desastre falso',color='blue')\n",
    "ax.legend()\n",
    "fig.suptitle('Cantidad de palabras en el Tweet')\n",
    "plt.show()"
   ]
  },
  {
   "cell_type": "markdown",
   "metadata": {},
   "source": [
    "# Longitud de la palabra mas chica en el Tweet"
   ]
  },
  {
   "cell_type": "code",
   "execution_count": 12,
   "metadata": {},
   "outputs": [
    {
     "data": {
      "text/html": [
       "<div>\n",
       "<style scoped>\n",
       "    .dataframe tbody tr th:only-of-type {\n",
       "        vertical-align: middle;\n",
       "    }\n",
       "\n",
       "    .dataframe tbody tr th {\n",
       "        vertical-align: top;\n",
       "    }\n",
       "\n",
       "    .dataframe thead th {\n",
       "        text-align: right;\n",
       "    }\n",
       "</style>\n",
       "<table border=\"1\" class=\"dataframe\">\n",
       "  <thead>\n",
       "    <tr style=\"text-align: right;\">\n",
       "      <th></th>\n",
       "      <th>text</th>\n",
       "      <th>min_length_words</th>\n",
       "    </tr>\n",
       "  </thead>\n",
       "  <tbody>\n",
       "    <tr>\n",
       "      <th>0</th>\n",
       "      <td>Our Deeds are the Reason of this #earthquake M...</td>\n",
       "      <td>2</td>\n",
       "    </tr>\n",
       "    <tr>\n",
       "      <th>1</th>\n",
       "      <td>Forest fire near La Ronge Sask. Canada</td>\n",
       "      <td>2</td>\n",
       "    </tr>\n",
       "    <tr>\n",
       "      <th>2</th>\n",
       "      <td>All residents asked to 'shelter in place' are ...</td>\n",
       "      <td>2</td>\n",
       "    </tr>\n",
       "    <tr>\n",
       "      <th>3</th>\n",
       "      <td>13,000 people receive #wildfires evacuation or...</td>\n",
       "      <td>2</td>\n",
       "    </tr>\n",
       "    <tr>\n",
       "      <th>4</th>\n",
       "      <td>Just got sent this photo from Ruby #Alaska as ...</td>\n",
       "      <td>1</td>\n",
       "    </tr>\n",
       "    <tr>\n",
       "      <th>...</th>\n",
       "      <td>...</td>\n",
       "      <td>...</td>\n",
       "    </tr>\n",
       "    <tr>\n",
       "      <th>7608</th>\n",
       "      <td>Two giant cranes holding a bridge collapse int...</td>\n",
       "      <td>1</td>\n",
       "    </tr>\n",
       "    <tr>\n",
       "      <th>7609</th>\n",
       "      <td>@aria_ahrary @TheTawniest The out of control w...</td>\n",
       "      <td>2</td>\n",
       "    </tr>\n",
       "    <tr>\n",
       "      <th>7610</th>\n",
       "      <td>M1.94 [01:04 UTC]?5km S of Volcano Hawaii. htt...</td>\n",
       "      <td>1</td>\n",
       "    </tr>\n",
       "    <tr>\n",
       "      <th>7611</th>\n",
       "      <td>Police investigating after an e-bike collided ...</td>\n",
       "      <td>1</td>\n",
       "    </tr>\n",
       "    <tr>\n",
       "      <th>7612</th>\n",
       "      <td>The Latest: More Homes Razed by Northern Calif...</td>\n",
       "      <td>1</td>\n",
       "    </tr>\n",
       "  </tbody>\n",
       "</table>\n",
       "<p>7613 rows × 2 columns</p>\n",
       "</div>"
      ],
      "text/plain": [
       "                                                   text  min_length_words\n",
       "0     Our Deeds are the Reason of this #earthquake M...                 2\n",
       "1                Forest fire near La Ronge Sask. Canada                 2\n",
       "2     All residents asked to 'shelter in place' are ...                 2\n",
       "3     13,000 people receive #wildfires evacuation or...                 2\n",
       "4     Just got sent this photo from Ruby #Alaska as ...                 1\n",
       "...                                                 ...               ...\n",
       "7608  Two giant cranes holding a bridge collapse int...                 1\n",
       "7609  @aria_ahrary @TheTawniest The out of control w...                 2\n",
       "7610  M1.94 [01:04 UTC]?5km S of Volcano Hawaii. htt...                 1\n",
       "7611  Police investigating after an e-bike collided ...                 1\n",
       "7612  The Latest: More Homes Razed by Northern Calif...                 1\n",
       "\n",
       "[7613 rows x 2 columns]"
      ]
     },
     "execution_count": 12,
     "metadata": {},
     "output_type": "execute_result"
    }
   ],
   "source": [
    "tweets[['text','min_length_words']]"
   ]
  },
  {
   "cell_type": "code",
   "execution_count": 13,
   "metadata": {},
   "outputs": [
    {
     "data": {
      "text/plain": [
       "1     3557\n",
       "2     3149\n",
       "3      577\n",
       "4      209\n",
       "5       58\n",
       "7       18\n",
       "6       14\n",
       "8       13\n",
       "9       10\n",
       "10       6\n",
       "11       1\n",
       "14       1\n",
       "Name: min_length_words, dtype: int64"
      ]
     },
     "execution_count": 13,
     "metadata": {},
     "output_type": "execute_result"
    }
   ],
   "source": [
    "tweets['min_length_words'].value_counts()"
   ]
  },
  {
   "cell_type": "code",
   "execution_count": 15,
   "metadata": {},
   "outputs": [
    {
     "data": {
      "image/png": "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\n",
      "text/plain": [
       "<Figure size 720x360 with 1 Axes>"
      ]
     },
     "metadata": {
      "needs_background": "light"
     },
     "output_type": "display_data"
    }
   ],
   "source": [
    "fig,ax=plt.subplots(1,1,figsize=(10,5))\n",
    "sns.distplot(tweets[tweets['target']==1].min_length_words,label='Desastre real',color='red')\n",
    "sns.distplot(tweets[tweets['target']==0].min_length_words,label='Desastre falso',color='blue')\n",
    "ax.legend()\n",
    "fig.suptitle('Longitud de la palabra mas chica en los Tweets')\n",
    "plt.show()"
   ]
  },
  {
   "cell_type": "markdown",
   "metadata": {},
   "source": [
    "# Longitut de la palabra mas grande en el Tweet"
   ]
  },
  {
   "cell_type": "code",
   "execution_count": 16,
   "metadata": {},
   "outputs": [
    {
     "data": {
      "text/html": [
       "<div>\n",
       "<style scoped>\n",
       "    .dataframe tbody tr th:only-of-type {\n",
       "        vertical-align: middle;\n",
       "    }\n",
       "\n",
       "    .dataframe tbody tr th {\n",
       "        vertical-align: top;\n",
       "    }\n",
       "\n",
       "    .dataframe thead th {\n",
       "        text-align: right;\n",
       "    }\n",
       "</style>\n",
       "<table border=\"1\" class=\"dataframe\">\n",
       "  <thead>\n",
       "    <tr style=\"text-align: right;\">\n",
       "      <th></th>\n",
       "      <th>text</th>\n",
       "      <th>max_length_words</th>\n",
       "    </tr>\n",
       "  </thead>\n",
       "  <tbody>\n",
       "    <tr>\n",
       "      <th>0</th>\n",
       "      <td>Our Deeds are the Reason of this #earthquake M...</td>\n",
       "      <td>11</td>\n",
       "    </tr>\n",
       "    <tr>\n",
       "      <th>1</th>\n",
       "      <td>Forest fire near La Ronge Sask. Canada</td>\n",
       "      <td>6</td>\n",
       "    </tr>\n",
       "    <tr>\n",
       "      <th>2</th>\n",
       "      <td>All residents asked to 'shelter in place' are ...</td>\n",
       "      <td>10</td>\n",
       "    </tr>\n",
       "    <tr>\n",
       "      <th>3</th>\n",
       "      <td>13,000 people receive #wildfires evacuation or...</td>\n",
       "      <td>10</td>\n",
       "    </tr>\n",
       "    <tr>\n",
       "      <th>4</th>\n",
       "      <td>Just got sent this photo from Ruby #Alaska as ...</td>\n",
       "      <td>10</td>\n",
       "    </tr>\n",
       "    <tr>\n",
       "      <th>...</th>\n",
       "      <td>...</td>\n",
       "      <td>...</td>\n",
       "    </tr>\n",
       "    <tr>\n",
       "      <th>7608</th>\n",
       "      <td>Two giant cranes holding a bridge collapse int...</td>\n",
       "      <td>22</td>\n",
       "    </tr>\n",
       "    <tr>\n",
       "      <th>7609</th>\n",
       "      <td>@aria_ahrary @TheTawniest The out of control w...</td>\n",
       "      <td>12</td>\n",
       "    </tr>\n",
       "    <tr>\n",
       "      <th>7610</th>\n",
       "      <td>M1.94 [01:04 UTC]?5km S of Volcano Hawaii. htt...</td>\n",
       "      <td>22</td>\n",
       "    </tr>\n",
       "    <tr>\n",
       "      <th>7611</th>\n",
       "      <td>Police investigating after an e-bike collided ...</td>\n",
       "      <td>13</td>\n",
       "    </tr>\n",
       "    <tr>\n",
       "      <th>7612</th>\n",
       "      <td>The Latest: More Homes Razed by Northern Calif...</td>\n",
       "      <td>22</td>\n",
       "    </tr>\n",
       "  </tbody>\n",
       "</table>\n",
       "<p>7613 rows × 2 columns</p>\n",
       "</div>"
      ],
      "text/plain": [
       "                                                   text  max_length_words\n",
       "0     Our Deeds are the Reason of this #earthquake M...                11\n",
       "1                Forest fire near La Ronge Sask. Canada                 6\n",
       "2     All residents asked to 'shelter in place' are ...                10\n",
       "3     13,000 people receive #wildfires evacuation or...                10\n",
       "4     Just got sent this photo from Ruby #Alaska as ...                10\n",
       "...                                                 ...               ...\n",
       "7608  Two giant cranes holding a bridge collapse int...                22\n",
       "7609  @aria_ahrary @TheTawniest The out of control w...                12\n",
       "7610  M1.94 [01:04 UTC]?5km S of Volcano Hawaii. htt...                22\n",
       "7611  Police investigating after an e-bike collided ...                13\n",
       "7612  The Latest: More Homes Razed by Northern Calif...                22\n",
       "\n",
       "[7613 rows x 2 columns]"
      ]
     },
     "execution_count": 16,
     "metadata": {},
     "output_type": "execute_result"
    }
   ],
   "source": [
    "tweets[['text','max_length_words']]"
   ]
  },
  {
   "cell_type": "code",
   "execution_count": 17,
   "metadata": {},
   "outputs": [
    {
     "data": {
      "text/plain": [
       "22    45.829502\n",
       "9      6.383817\n",
       "10     6.199921\n",
       "23     5.818994\n",
       "11     5.556285\n",
       "12     5.122816\n",
       "8      4.479180\n",
       "13     4.137659\n",
       "14     3.428346\n",
       "15     2.889794\n",
       "7      2.810981\n",
       "16     2.771575\n",
       "6      1.182188\n",
       "5      0.617365\n",
       "17     0.512282\n",
       "18     0.354657\n",
       "20     0.262709\n",
       "19     0.262709\n",
       "24     0.183896\n",
       "25     0.170761\n",
       "28     0.131354\n",
       "21     0.131354\n",
       "4      0.131354\n",
       "26     0.131354\n",
       "27     0.105083\n",
       "29     0.065677\n",
       "31     0.065677\n",
       "30     0.052542\n",
       "34     0.039406\n",
       "41     0.026271\n",
       "37     0.013135\n",
       "50     0.013135\n",
       "3      0.013135\n",
       "62     0.013135\n",
       "56     0.013135\n",
       "42     0.013135\n",
       "40     0.013135\n",
       "33     0.013135\n",
       "35     0.013135\n",
       "57     0.013135\n",
       "43     0.013135\n",
       "Name: max_length_words, dtype: float64"
      ]
     },
     "execution_count": 17,
     "metadata": {},
     "output_type": "execute_result"
    }
   ],
   "source": [
    "tweets['max_length_words'].value_counts(normalize=True)*100"
   ]
  },
  {
   "cell_type": "markdown",
   "metadata": {},
   "source": [
    "Tenemos 3489 tweet con una longitud maxima de palabra 22 el cual representa casi un 46% de los tweet totales lo cual resulta alto si consideramos que solo estamos tomando un solo atrinuto de los tweet en este caso las palabras de longitud maxima igual a 22.\n",
    "\n",
    "Si miramos estos tweet podemos ver que contienen una url lo cual resulta sospechoso"
   ]
  },
  {
   "cell_type": "code",
   "execution_count": 18,
   "metadata": {},
   "outputs": [
    {
     "data": {
      "image/png": "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\n",
      "text/plain": [
       "<Figure size 720x360 with 1 Axes>"
      ]
     },
     "metadata": {
      "needs_background": "light"
     },
     "output_type": "display_data"
    }
   ],
   "source": [
    "fig,ax=plt.subplots(1,1,figsize=(10,5))\n",
    "sns.distplot(tweets[tweets['target']==1].max_length_words,label='Desastre real',color='red')\n",
    "sns.distplot(tweets[tweets['target']==0].max_length_words,label='Desastre falso',color='blue')\n",
    "ax.legend()\n",
    "fig.suptitle('Longitud de la palabra mas grande en los Tweets')\n",
    "plt.show()"
   ]
  },
  {
   "cell_type": "markdown",
   "metadata": {},
   "source": [
    "# Longitud promedio de las palabras del Tweet"
   ]
  },
  {
   "cell_type": "code",
   "execution_count": 19,
   "metadata": {},
   "outputs": [
    {
     "data": {
      "text/html": [
       "<div>\n",
       "<style scoped>\n",
       "    .dataframe tbody tr th:only-of-type {\n",
       "        vertical-align: middle;\n",
       "    }\n",
       "\n",
       "    .dataframe tbody tr th {\n",
       "        vertical-align: top;\n",
       "    }\n",
       "\n",
       "    .dataframe thead th {\n",
       "        text-align: right;\n",
       "    }\n",
       "</style>\n",
       "<table border=\"1\" class=\"dataframe\">\n",
       "  <thead>\n",
       "    <tr style=\"text-align: right;\">\n",
       "      <th></th>\n",
       "      <th>text</th>\n",
       "      <th>avg_length_words</th>\n",
       "    </tr>\n",
       "  </thead>\n",
       "  <tbody>\n",
       "    <tr>\n",
       "      <th>0</th>\n",
       "      <td>Our Deeds are the Reason of this #earthquake M...</td>\n",
       "      <td>4.384615</td>\n",
       "    </tr>\n",
       "    <tr>\n",
       "      <th>1</th>\n",
       "      <td>Forest fire near La Ronge Sask. Canada</td>\n",
       "      <td>4.571429</td>\n",
       "    </tr>\n",
       "    <tr>\n",
       "      <th>2</th>\n",
       "      <td>All residents asked to 'shelter in place' are ...</td>\n",
       "      <td>5.090909</td>\n",
       "    </tr>\n",
       "    <tr>\n",
       "      <th>3</th>\n",
       "      <td>13,000 people receive #wildfires evacuation or...</td>\n",
       "      <td>7.125000</td>\n",
       "    </tr>\n",
       "    <tr>\n",
       "      <th>4</th>\n",
       "      <td>Just got sent this photo from Ruby #Alaska as ...</td>\n",
       "      <td>4.500000</td>\n",
       "    </tr>\n",
       "    <tr>\n",
       "      <th>...</th>\n",
       "      <td>...</td>\n",
       "      <td>...</td>\n",
       "    </tr>\n",
       "    <tr>\n",
       "      <th>7608</th>\n",
       "      <td>Two giant cranes holding a bridge collapse int...</td>\n",
       "      <td>6.636364</td>\n",
       "    </tr>\n",
       "    <tr>\n",
       "      <th>7609</th>\n",
       "      <td>@aria_ahrary @TheTawniest The out of control w...</td>\n",
       "      <td>5.300000</td>\n",
       "    </tr>\n",
       "    <tr>\n",
       "      <th>7610</th>\n",
       "      <td>M1.94 [01:04 UTC]?5km S of Volcano Hawaii. htt...</td>\n",
       "      <td>7.250000</td>\n",
       "    </tr>\n",
       "    <tr>\n",
       "      <th>7611</th>\n",
       "      <td>Police investigating after an e-bike collided ...</td>\n",
       "      <td>6.263158</td>\n",
       "    </tr>\n",
       "    <tr>\n",
       "      <th>7612</th>\n",
       "      <td>The Latest: More Homes Razed by Northern Calif...</td>\n",
       "      <td>6.307692</td>\n",
       "    </tr>\n",
       "  </tbody>\n",
       "</table>\n",
       "<p>7613 rows × 2 columns</p>\n",
       "</div>"
      ],
      "text/plain": [
       "                                                   text  avg_length_words\n",
       "0     Our Deeds are the Reason of this #earthquake M...          4.384615\n",
       "1                Forest fire near La Ronge Sask. Canada          4.571429\n",
       "2     All residents asked to 'shelter in place' are ...          5.090909\n",
       "3     13,000 people receive #wildfires evacuation or...          7.125000\n",
       "4     Just got sent this photo from Ruby #Alaska as ...          4.500000\n",
       "...                                                 ...               ...\n",
       "7608  Two giant cranes holding a bridge collapse int...          6.636364\n",
       "7609  @aria_ahrary @TheTawniest The out of control w...          5.300000\n",
       "7610  M1.94 [01:04 UTC]?5km S of Volcano Hawaii. htt...          7.250000\n",
       "7611  Police investigating after an e-bike collided ...          6.263158\n",
       "7612  The Latest: More Homes Razed by Northern Calif...          6.307692\n",
       "\n",
       "[7613 rows x 2 columns]"
      ]
     },
     "execution_count": 19,
     "metadata": {},
     "output_type": "execute_result"
    }
   ],
   "source": [
    "tweets[['text','avg_length_words']]"
   ]
  },
  {
   "cell_type": "code",
   "execution_count": 20,
   "metadata": {},
   "outputs": [
    {
     "data": {
      "text/plain": [
       "count    7613.000000\n",
       "mean        6.128494\n",
       "std         1.675464\n",
       "min         2.250000\n",
       "25%         4.875000\n",
       "50%         5.928571\n",
       "75%         7.058824\n",
       "max        19.333333\n",
       "Name: avg_length_words, dtype: float64"
      ]
     },
     "execution_count": 20,
     "metadata": {},
     "output_type": "execute_result"
    }
   ],
   "source": [
    "tweets['avg_length_words'].describe()"
   ]
  },
  {
   "cell_type": "code",
   "execution_count": 21,
   "metadata": {},
   "outputs": [
    {
     "data": {
      "image/png": "iVBORw0KGgoAAAANSUhEUgAAAlkAAAFiCAYAAADFrc20AAAABHNCSVQICAgIfAhkiAAAAAlwSFlzAAALEgAACxIB0t1+/AAAADh0RVh0U29mdHdhcmUAbWF0cGxvdGxpYiB2ZXJzaW9uMy4xLjMsIGh0dHA6Ly9tYXRwbG90bGliLm9yZy+AADFEAAAgAElEQVR4nOzdeXyU1dn/8c+VjS1hT9iC7FsCISARFQUVBFSq1qWltm51afurbR+tPrXaR+1iF/WxirRVujxqtbWuSKtWVGRRUUAElAQIO4GQhC2sgSzn98c9oUPIMknumQnJ9/165TWZmfs+55rJQK6cc93nmHMOEREREfFXTLQDEBEREWmOlGSJiIiIhIGSLBEREZEwUJIlIiIiEgZKskRERETCQEmWiIiISBgoyRKpg5m9ZWbX+9jefDO72a/2osXMzjOzvKD7q83sPB/a7WtmzsziGnDuA2b2XGNj8EvV96iOY28wsw/CHVMo6vMZDfysBoY7JpFTkZIsOaWY2WYzmxTJPp1zFznnngn032R+ETY1zrl059z8aMchTUc0/qDQv1FpSpRkiZyiGjLSI82DefT/t0gTp3+k0myY2S1mtt7M9pjZHDPrGfScM7Nvm1mume01s9+ZmQWeizWz/zWzXWa2ycxuC56uqvxr3MyGAU8CZ5nZQTPbF/x8UF8n/CVtZhea2RozKzazmYDV8hoeMLOXzewfZnbAzJab2cig5zeb2Y/MbBVwyMzizGxYIIZ9gSm7S4OOf9rMfh+Y8jxoZh+aWXczeyzwPqwxs1FBx/c0s1fMrCjwXnw/6Lk2gfb2mlk2kFUl9uOjjGbWKtDHjsDXY2bWqobXHGtmjwTe/43AJVWe72BmfzazfDPbbma/MLPYmt7DKue+ZGY7A+/9QjNLD3ruYjPLDrzP283szhrauCHwvj0RaGeNmU0Mev5GM8sJtLPRzL5VSzx3m9mGwLHZZvblkw+psZ/5ZvagmX0IHAb619a3mXU1s38FPhd7zGyR1ZCY1fUZNbNvBvrZa2Zvm1mfml5j0DkPAucCMwOfvZlm9lMzeyLwfLyZHTKzhwL325hZiZl1Ctw/08w+CsS/0oKmomv6TFgN/0ZFokVJljQLZnYB8CvgK0APYAvwQpXDpuElBiMDx00JPH4LcBGQCYwGLq+uD+dcDvBtYLFzLtE51zGEuLoCrwA/AboCG4BxdZx2GfAS0Bn4GzDbzOKDnv8aXiLSEe+X4T+BuUAK8D3geTMbEnT8V4L6PwosBpYH7r8MPBqINSbQ1kqgFzAR+C8zq3yf7gcGBL6mALXVqd0LnIn3no4EzgjEUJ1b8H42o4AxwFVVnn8GKAMGBo6ZDIQ6BfUWMAjvvVkOPB/03J+BbznnkoDhwLxa2hkLbMR7z+4HXjWzzoHnCgPxtwduBH5rZqNraGcDXuLRAfgp8JyZ9QixH4BrgVuBJLzPeG19/xDIA5KBbsA9wEn7qNX1GTWzywPnXhFoaxHw9xpe33HOuXsDx94W+PdyG7AAOC9wSBawE5gQuH8WsNY5t9fMegFvAL/A+3dwJ/CKmSUHjq32M9GQf6Mi4aQkS5qLrwN/cc4td84dBX6M99ds36Bjfu2c2+ec2wq8j5cAgJeEPO6cy3PO7QV+7WNcFwPZzrmXnXOlwGN4v1hq82nQ8Y8CrfESlkoznHPbnHNHAo8n4r22Y865ecC/8BKxSq855z51zpUArwElzrlnnXPlwD/wfkmB90sv2Tn3s0BbG4E/AtMDz38FeNA5t8c5tw2YUctr+DrwM+dcoXOuCC+huLaGY78CPBZ4TXvwkmUAzKwbXgL8X865Q865QuC3QTHVyjn3F+fcgcBn4gFgpJl1CDxdCqSZWXvn3F7n3PJamioMxFjqnPsHsJbAiJtz7g3n3AbnWYCX8J5bQzwvOed2OOcqAu3k4iWgdfYT8LRzbrVzrixwTG19l+L9wdEncOwiV/1mtXV9Rr8F/Mo5l+OcKwN+CWSGMppVjcXAIDPrAozHS3R7mVkiXrK1IHDcN4A3nXNvBt6rd4BlwMWN/UyIRJKSLGkueuL9ZQ+Ac+4gsBtvRKZS8C+Ow3jJSeW524KeC/7ej7iOtxf4JVdX+8HHV+CNRvSs7vnK9gPHVdrCia+7IOj7I9Xcr3wf+gA9A9Mz+wJTLffgjYKc9FoIer+r0bPK81uqvIaqx9bUbh8gHsgPiukpvJGpWgWmj34dmJ7bD2wOPNU1cHslXoKxxcwWmNlZtTS3vUqCcvz1mNlFZvZxYEpuX6DNrtU1YmbXmdmKoNcyvMqxNfYTcMJnp46+HwbWA3MDU4l31/Da6vqM9gEeD4p5D94Iai/qKfCHwTK8hGo8XlL1Ed7IWXCS1Qe4uspn8RwCSSMN/EyIRJoKZ6W52IH3ny8AZtYO6AJsD+HcfCA16H7vWo6tbiTgENA26H73Km0fb8/MrI72T+g/MIWXivf6qothB9DbzGKCEq3TgHV19FGdbcAm59ygGp6vfC2rg/qpSeXPI/jYHTUce8J7VKXdbXhTnF0Doyj1cQ3e1OskvASrA7CXQL2Rc24pcFlgKvY24EVq/tn0MjMLSoBOA+aYV2f2CnAd8LpzrtTMZsPJdXeBkZ8/4k3DLnbOlZvZiirHVttP0PPHf/Z19e2cO4A3ZfhD82rR3jezpc6596qEVtdndBveCObz1F91/14WABfgjaAuDdyfgjeitzCoz786526penJgerW2z0R1fYpEhUay5FQUb2atg77i8GqXbjSzzMAvn18CnzjnNofQ3ovAD8ysl5l1BH5Uy7EFQKqZJQQ9tgK4wszamrde0E1Bz70BpJvZFYE4v8+JSVh1Tg86/r/wfqF8XMOxn+Alef8dKCQ+D/gSJ9ejhWIJsN+8wvo2gZGg4WZWWeD+IvBjM+tkZql49V81+TvwEzNLDtT83AfUtH7Vi8D3zSw1UPR8fMTFOZePNwX2v2bW3sxizGyAmU2ooa1gSXjv3W68JPiXlU+YWYKZfd3MOgSmyPYD5bW0lRKIMd7MrgaGAW8CCUAroAgoM7OL8OqDqtMOLwEoCsRwI95IVij9VKfWvs1smpkNDCRNla+vutdY12f0Sbyfe3qg3Q6B2EJRAPSv8tgCvMQw2zl3DJiPV2O3KTC1DN5n5UtmNiXwOWxt3ppjqSF8Jqr7NyoSFUqy5FT0Jt40V+XXA4G/zv8H7y/7fLzi7FBrNP6I95/2KuCzQPtlVP8LaR7e6MxOM9sVeOy3wDG8/9yfIai42jm3C7gar85rN14R9od1xPM68FW8UZdrgSsCicBJAr+kLsWrUdkF/B64zjm3po4+qmurHC9BywQ2Bdr7E94IEHh1VVsCz80F/lpLc7/AmxZaBXyOV3T+ixqO/SPwNl7B/XLg1SrPX4eXUGTjvScv400b1eXZQLzbA+dWTVSvBTYHphK/jVcHVJNP8H52u4AHgaucc7sDo0Xfx0sU9+KNns2prgHnXDbwv3h1SQXACE7+LFTbTw3t1dX3IOBd4GCgz9+7atYxq+sz6px7DfgN8ELgvfoC7/MWiseBq8y7KrGyhu8joA3/GbXKBkqC7hOo+bsMb7q6CG9k6y7+8zurts9Edf9GRaLCqq+DFGm5AiMCTzrnGlLY29i+HwAGOudq+4UvEWRmN+BduXZOtGMRkVOLRrKkxQtMjV1s3ppTvfAunX8t2nGJiMipTUmWiFco/FO8aYfPgBy8GiIREZEG03ShiIiISBhoJEtEREQkDJRkiYiIiISBkiwRERGRMFCSJSIiIhIGSrJEREREwkBJloiIiEgYKMkSERERCQMlWSIiIiJhoCRLREREJAyUZImIiIiEgZIsERERkTBQkiUiIiISBkqyRERERMJASZaIiIhIGCjJEhEREQkDJVkiIiIiYaAkS0RERCQMlGSJiIiIhIGSLBEREZEwUJIlIiIiEgZKskRERETCQEmWiIiISBjERTuAqrp27er69u0b7TBERERE6vTpp5/ucs4lV/dck0uy+vbty7Jly6IdhoiIiEidzGxLTc9pulBEREQkDJRkiYiIiISBkiwRERGRMGhyNVkiIiItSWlpKXl5eZSUlEQ7FKlF69atSU1NJT4+PuRzlGSJiIhEUV5eHklJSfTt2xczi3Y4Ug3nHLt37yYvL49+/fqFfJ6mC0VERKKopKSELl26KMFqwsyMLl261Hu0UUmWiIhIlCnBavoa8jNSkiUiItLCxcbGkpmZSXp6OiNHjuTRRx+loqIi7P3Onj2b7OzssPdTl759+7Jr1y7f21VNloiISFMya5a/7d16a52HtGnThhUrVgBQWFjINddcQ3FxMT/96U/9jaWK2bNnM23aNNLS0k56rqysjLi4+qUpDTknnDSSJSIiIselpKQwa9YsZs6ciXOO8vJy7rrrLrKyssjIyOCpp54CID8/n/Hjx5OZmcnw4cNZtGgRAN/5zncYM2YM6enp3H///cfbvfvuu0lLSyMjI4M777yTjz76iDlz5nDXXXeRmZnJhg0bOO+887jnnnuYMGECjz/+OEVFRVx55ZVkZWWRlZXFhx9+eFK8Tz/9NFdffTVf+tKXmDx5MgAPP/zw8XiDY7j88ss5/fTTSU9PZ5bfyWw1mk66JyIiIk1C//79qaiooLCwkNdff50OHTqwdOlSjh49yrhx45g8eTKvvvoqU6ZM4d5776W8vJzDhw8D8OCDD9K5c2fKy8uZOHEiq1atIjU1lddee401a9ZgZuzbt4+OHTty6aWXMm3aNK666qrjfe/bt48FCxYAcM0113D77bdzzjnnsHXrVqZMmUJOTs5J8S5evJhVq1bRuXNn5s6dS25uLkuWLME5x6WXXsrChQsZP348f/nLX+jcuTNHjhwhKyuLK6+8ki5duoTtfVSSJWFT1x8JIYxgi4hIlDjnAJg7dy6rVq3i5ZdfBqC4uJjc3FyysrL45je/SWlpKZdffjmZmZkAvPjii8yaNYuysjLy8/PJzs4mLS2N1q1bc/PNN3PJJZcwbdq0Gvv96le/evz7d99994Sarf3793PgwAGSkpJOOOfCCy+kc+fOx+OdO3cuo0aNAuDgwYPk5uYyfvx4ZsyYwWuvvQbAtm3byM3NVZIlIiIikbNx40ZiY2NJSUnBOccTTzzBlClTTjpu4cKFvPHGG1x77bXcddddnHvuuTzyyCMsXbqUTp06ccMNN1BSUkJcXBxLlizhvffe44UXXmDmzJnMmzev2r7btWt3/PuKigoWL15MmzZtao03+BznHD/+8Y/51re+dcIx8+fP591332Xx4sW0bduW8847L+wLwKomS0RERI4rKiri29/+NrfddhtmxpQpU/jDH/5AaWkpAOvWrePQoUNs2bKFlJQUbrnlFm666SaWL1/O/v37adeuHR06dKCgoIC33noL8EaTiouLufjii3nssceOF9knJSVx4MCBGmOZPHkyM2fOPH6/8rzaTJkyhb/85S8cPHgQgO3bt1NYWEhxcTGdOnWibdu2rFmzho8//rjB71GoNJIlIiLSwh05coTMzExKS0uJi4vj2muv5Y477gDg5ptvZvPmzYwePRrnHMnJycyePZv58+fz8MMPEx8fT2JiIs8++yz9+vVj1KhRpKen079/f8aNGwfAgQMHuOyyyygpKcE5x29/+1sApk+fzi233MKMGTOOT0cGmzFjBt/97nfJyMigrKyM8ePH8+STT9b6WiZPnkxOTg5nnXUWAImJiTz33HNMnTqVJ598koyMDIYMGcKZZ57p51tYLaucc631ILOpwONALPAn59yvqzz/beC7QDlwELjVOZcdeO7HwE2B577vnHu7tr7GjBnjli1b1oCXIk2NarJEROqWk5PDsGHDoh2GhKC6n5WZfeqcG1Pd8XVOF5pZLPA74CIgDfiamVVd0OJvzrkRzrlM4CHg0cC5acB0IB2YCvw+0J6IiIhIsxZKTdYZwHrn3Ebn3DHgBeCy4AOcc/uD7rYDKofHLgNecM4ddc5tAtYH2hMRERFp1kKpyeoFbAu6nweMrXqQmX0XuANIAC4IOje4siwv8JiIiIhIsxbKSFZ1OyKeVMjlnPudc24A8CPgJ/U518xuNbNlZrasqKgohJBEREREmrZQkqw8oHfQ/VRgRy3HvwBcXp9znXOznHNjnHNjkpOTQwhJREREpGkLJclaCgwys35mloBXyD4n+AAzGxR09xIgN/D9HGC6mbUys37AIGBJ48MWERERadrqTLKcc2XAbcDbQA7wonNutZn9zMwuDRx2m5mtNrMVeHVZ1wfOXQ28CGQD/wa+65wrD8PrEBERkQaKjY0lMzOT9PR0Ro4cyaOPPkpFRUXY+509e/YJ2+Y01Ne+9jUyMjKOr79VnQceeIBHHnmk0X3VR0iLkTrn3gTerPLYfUHf/6CWcx8EHmxogCIiIi1JXWsM1lcoaxK2adPm+GrqhYWFXHPNNRQXF/PTn/7U32CqmD17NtOmTSMtrerKUFBWVkZcXN1pys6dO/noo4/YsmVLOEJsFG2rI1Jfs2bV/iUicgpLSUlh1qxZzJw5E+cc5eXl3HXXXWRlZZGRkcFTTz0FQH5+PuPHjyczM5Phw4ezaNEiAL7zne8wZswY0tPTuf/++4+3e/fdd5OWlkZGRgZ33nknH330EXPmzOGuu+4iMzOTDRs2cN5553HPPfcwYcIEHn/8cYqKirjyyivJysoiKyuLDz/88KR4J0+eTGFhIZmZmSxatIg//vGPZGVlMXLkSK688koOHz580jkzZsw4Hsv06dMB2LNnD5dffjkZGRmceeaZrFq1qtHvpbbVERERkRP079+fiooKCgsLef311+nQoQNLly7l6NGjjBs3jsmTJ/Pqq68yZcoU7r33XsrLy48nMw8++CCdO3emvLyciRMnsmrVKlJTU3nttddYs2YNZsa+ffvo2LEjl156KdOmTeOqq6463ve+fftYsGABANdccw23334755xzDlu3bmXKlCnk5OScEOucOXOYNm3a8ZG4tLQ0brnlFgB+8pOf8Oc//5nvfe97J5zz61//mk2bNtGqVSv27dsHwP3338+oUaOYPXs28+bN47rrrgtpr8TaKMkSERGRk1Ruuzd37lxWrVp1fG/B4uJicnNzycrK4pvf/CalpaVcfvnlZGZmAvDiiy8ya9YsysrKyM/PJzs7m7S0NFq3bs3NN9/MJZdcwrRp02rs96tf/erx7999990Tarb279/PgQMHSEpKqvH8L774gp/85Cfs27ePgwcPMmXKlJOOycjI4Otf/zqXX345l1/uLYjwwQcf8MorrwBwwQUXsHv3boqLi+nQoUOob9lJlGSJiIjICTZu3EhsbCwpKSk453jiiSeqTVYWLlzIG2+8wbXXXstdd93FueeeyyOPPMLSpUvp1KkTN9xwAyUlJcTFxbFkyRLee+89XnjhBWbOnMm8efOq7btdu3bHv6+oqGDx4sW0adMm5NhvuOEGZs+ezciRI3n66aeZP3/+Sce88cYbLFy4kDlz5vDzn/+c1atXU91ezmbVLfcZOtVkiYiIyHFFRUV8+9vf5rbbbsPMmDJlCn/4wx8oLS0FYN26dRw6dIgtW7aQkpLCLbfcwk033cTy5cvZv38/7dq1o0OHDhQUFPDWW28BcPDgQYqLi7n44ot57LHHjk/DJSUlceDAgRpjmTx5MjNnzjx+P5TpuwMHDtCjRw9KS0t5/vnnT3q+oqKCbdu2cf755/PQQw8dH/EaP3788ePnz59P165dad++fehvXDU0kiUiItLCHTlyhMzMTEpLS4mLi+Paa6/ljjvuAODmm29m8+bNjB49GuccycnJzJ49m/nz5/Pwww8THx9PYmIizz77LP369WPUqFGkp6fTv39/xo0bB3iJz2WXXUZJSQnOueNLLUyfPp1bbrmFGTNmHJ+ODDZjxgy++93vkpGRQVlZGePHj+fJJ5+s9bX8/Oc/Z+zYsfTp04cRI0aclMSVl5fzjW98g+LiYpxz3H777XTs2JEHHniAG2+8kYyMDNq2bcszzzzT6PfVqhsei6YxY8a4ZcuWRTsM8UFdF9qFcllxk9RsX5iIRENOTg7Dhg2LdhgSgup+Vmb2qXNuTHXHa7pQREREJAw0XSjNQyjrU2mESUREIkgjWSLByspg0SL47/+GqVPhtdegiU2pi4jIqUEjWdJgzWpx8/Xr4cEHYc4c2LMH4uOhWze44gqYPBlmzIAhQ6IdpYg0U865Ri8XIOHVkBp2jWRJy7Z7N/zXf0FaGrz0Ekyb5t3u2gWbNsFjj8HHH8OIEXDffRrVEhHftW7dmt27dzfol7hEhnOO3bt307p163qdp5EsCSvnoEn+cbZ/Pzz5JPzqV973N98MP/0pdO9+4nE/+AFMn+4lYj//OYwdG514RaTZSk1NJS8vj6KiomiHIrVo3bo1qamp9TpHSZaEzdatMHMmdO0K558Po0ZBCBuqh1dBgTf19/vfw759cNFF8PDDkJ5e8zndusGzz8KyZfDjH8P/+38Qo0FgEfFHfHw8/fr1i3YYEgb6TSFhsWEDPPqol4scOAB/+pOXn8ydG6UZt9JS+NGPoG9fb/Rq0iRYuhTefLP2BKtSfDz84hfw+efwySdhD1dERE590R5XkGZo7Vr43e+gQwe4/Xbo2BGys+Hdd+GVV7z7Z5wRwYA2b4ann4b8fLj+erjnHhg8uP7tXH01PPQQ/POfMGaMl3iJiIjUQCNZ4qv16+GJJ6BzZ7jzTu82JgaGD4fvfx8GDIC//x327o1AMOXlXkL0m9/AkSPw7397yVZDEizwXshvfuMVyy9Y4GuoIiLS/CjJEl/NmQOJiV6C1aHDic/FxMANN3i5zzPPQEVFmIN58UX417+8YbP77oNqdpCvt0mTYNgwb5rxyJHGtyciIs2Wkizxzc6d3lTheed5iVZ1UlLgqqsgJ8erPQ+bTZu80aYLLoAbb4R27fxr+8tfhkOHvAIzERGRGijJEt8sXAixsXD22bUfd+653vThf/+3l5T5rrwcnnvOG0q77DL/2+/TB0aPhvnzvRXiRUREqqEkS3xx7BgsXuzlHu3b136sGVx3HSQkeBf8+W7ePMjLg69+Feq5cFzIzj4bDh/2huRERESqoasLxRfLlnk5x/jxoR3foQPccQfcfz98+imcfrpPgezZ4xW7jxjhLcwVzM9NpIcNg7ZtvRc+YkT94xQRkWZPI1nii4ULoUcPGDQo9HN+8APo1AkeeMDHQP7xD6+ifvr08C41HxfnJXErVnhrcImIiFShJEsabetWr858/Pj65TUdOsAPf+hdALh0qQ+BrF3rJT3TpnnLzIfb6adDSQmsXh3+vkRE5JSjJEsabeFCb13OM8+s/7nf+563lpYvo1mffOLVYE2c6ENjIRg61LtqcdmyyPQnIiKnFCVZ0iilpbBkCWRleSVK9dW+Pdx1l7fs1McfNyKQ8nJvFCsjI3IrscfGepX+q1Z5lf8iIiJBlGRJo2zcCEePnlxjXh+33ebN7jVqNGvdOm/tqtGjG9FIA4wZ470Bn38e2X5FRKTJU5IljbJmjbeSe30K3qtKTPRGs95+Gz76qIGNLF8OrVqFttmznwYNgqQkTRmKiMhJlGRJo6xd663N2aZN49r57nchOdlb0qHeysvhs8+8FU4TEhoXSH1VThl+/rlXBC8iIhKgJEsarKTEu6pwyJDGt9Wunbcw6bvvwgcf1PPkRYvgwAEfF9uqpzFjvOI0TRmKiEgQJVnSYOvXe0tSDR3qT3vf+Q5069aA0ayXX/aK3YcP9yeQ+ho4EDp29KYsRUREArTiuzTY2rXempwDBjTs/OoWYB8/Hl56ydvbecKEEBopL4dXXvFWXW/VqmGBNFZMjJfgLVvmxSMiIoKSLGmENWugXz9/y6DGj4e5c73RrPnzAw/Wth1Obi7s3OktQBpN6enePOemTdGNQ0REmoyQpgvNbKqZrTWz9WZ2dzXP32Fm2Wa2yszeM7M+Qc+Vm9mKwNccP4OX6Nm7F7Zt86ceK1hCAkyd6o1kzZsXwgnLl3vDadHeP3DoUG9E64svohuHiIg0GXUmWWYWC/wOuAhIA75mZmlVDvsMGOOcywBeBh4Keu6Icy4z8HWpT3FLlC1cCM75V48V7NxzoXdvuPPOOmbfKiq8JCs93VvpPZratoX+/bXFjoiIHBfKSNYZwHrn3Ebn3DHgBeCy4AOcc+875w4H7n4MpPobpjQ18+Z5teb9+vnfdnw8/OY33qoMzzxTy4F5ebBvX+NWQvVTerq3kWNhYbQjERGRJiCUmqxewLag+3nA2FqOvwl4K+h+azNbBpQBv3bOza53lNLkzJvnrcMZF6aqvunT4Ykn4J574Kofx9O+TenJB61f7936OWdZW/1XXdLT4fXXvaKyb3zDv5hEROSUFMpIllXzmKv2QLNvAGOAh4MePs05Nwa4BnjMzE66Fs3MbjWzZWa2rKioKISQJJoKCrzSI7/rsYKZweOPe3398q0aRqrWr4dOnbwdppuC3r291d///e9oRyIiIk1AKElWHtA76H4qsKPqQWY2CbgXuNQ5d7TycefcjsDtRmA+cNJvTOfcLOfcGOfcmOTk5Hq9AIm8yqv+wlGPFSwrC667Dn773gg2FiWd+KRzXpLVmP18/BYTA2lp3v5AFRXRjkZERKIslCRrKTDIzPqZWQIwHTjhKkEzGwU8hZdgFQY93snMWgW+7wqMA7L9Cl6i48MPvRXae/eu+9jG+tWvID62gjtfPvPEJ3btguJibyHQpiQ93YtNC5OKiLR4dSZZzrky4DbgbSAHeNE5t9rMfmZmlVcLPgwkAi9VWaphGLDMzFYC7+PVZCnJOsUtX+7VmsfGhr+vnj3h3os+47UV/Xjts77/eaKyHqupJVlpad5cp6YMRURavJDKlp1zbwJvVnnsvqDvJ9Vw3kdAlBcwEj9VVMCKFfDNb0auzzsnr+SlT/vz7efP4dxB+XRNPOolWW3bQo8ekQskFElJ3h6K//43/OQn0Y5GRESiSHsXSr3k5sKhQzB6dOT6jI91PHPj++w93Irb/n7OfwIZMMCrg2pqpk6FxYu9FVtFRKTF0rY6Ui+VpUajR8PHH0eu33zMnvgAACAASURBVBG99vLAtE+59/UzuHJYNlcXFPBJj8tZubD66vtbx6+JXHBVTZ0Kv/gFvPsuXH119OIQEZGoUpIl9fLZZ94+zMOGhTfJOmG5qkAi1altCX06H+CWFy5gAsnsTMkIXwCNMXYstG8P77yjJEtEpAVrgnMt0pQtX+5tExgfH/m+Y2PghrPWcrgsge/wJIWdBkc+iFDExcGECfDee9GOREREokhJloTMOS/JimQ9VlU9Ox7mR21m8CpXsCSvV/QCqcvEibBxI2zeHO1IREQkSjRdKCHbutWr5Y7mVoFxZUf4n8P3MLvNZfx96UAGd9tHh+q23ImmWbNgzx7v+/vvh3HjTj7m1lsjG5OIiEScRrIkZMFF79GSsiuHBI5x24gFHC2L5fklg3DVbvIUZT17enVZa6JYgC8iIlGlJEtCtny5twDpiCiufNa9cBUOI6FPDy7P3MTKvK4s2ZwSvYBqYuZt7rhmDU0zCxQRkXBTkiUh++wz76rCNm2iF0P3olXs7jSA0oREJg7ZzoCuxbywbAAHSqJQiV+XoUNh/37Iz492JCIiEgVKsiRk0S56t4oyuu3KpiDZG0qLiYFrz1xHSWksr37WL3qB1aRyB21NGYqItEhKsiQk+fneVzSTrE7Fm4kvO8LOrunHH+vR4QgXDsvjo43dWV/YPnrBVadrV+9LSZaISIukJEtC8tln3m00ryzstsvbW7wwKMkCuGTEVjq1LeHvSwdSXhGNyGoxdCisXQvl5dGOREREIkxJloSkMsnKzIxeDCm7VnO4dScOJJ64KXSruAq+cvoG8vYl8v66JrZ21tChUFLirX8hIiItipIsCcny5TBwoLcqQbR025VNYdc078q9Kkb13s3wnnv458o+7DucEIXoalBZl5WTE904REQk4pRkSUiiXfTe6uh+Ou7fSmGXtGqfN4PpY9ZTVhHDnFV9IhxdLZKSIDVVdVkiIi2Qkiyp0/793u4w0Z0q9OqxCpLTazwmOamE8YPyWdzUiuCHDIENG+DYsWhHIiIiEaQkS+pUOdOVVv0gUkSk7M6mwmIo6jyk1uOmpm8lNqaCn/7r9AhFFoKhQ6GszNvLUEREWgztXSh1ahJJ1q5s9nTsT1l821qP69CmlPOH7OD5TwYyILmYnh0OV3vcreMjOH03aJA3n7l27X9qtEREpNnTSJbUKTsbEhKgX7TW+3QVpOzKqbEeq6opadtoFVfOP1c2kdqsNm2gTx9Yty7akYiISAQpyZI65eR4ZUVxURr37Lh/K61KD9ZajxUssVUZE4dtZ/m2ZLbuSQxzdCEaPBg2bVJdlohIC6IkS+qUnR3dqcJuu1YDeMs3hGjS0DzaJpQyp6mMZg0Z4i1IumFDtCMREZEIUZIltTpyxBuAGTYsejGkFK2mJCGJ4qTUkM9pm1DOhcPy+HxHF7btbRfG6EI0cKC32eLatdGOREREIkSF71KjWbNg2zZwDnbs8O5Hw38WIa3f3wQTBuXz79WnMTc7lZvGRTm5ad1adVkiIi2MRrKkVvn53m337tHpP/7IfjoVb67XVGGldq3KOGdgPsu2pLD7YKswRFdPQ4Z4w4JHj0Y7EhERiQAlWVKr/HxvlislJTr9p2xeguEo6Bpa0XtVk4ZuB+C9tU1gT8PBg6GiQnVZIiIthJIsqVV+PiQnQ3x8dPpP2fgxAEVdGra+VOd2RxnTp5AP1vfg0NEoz44PGKC6LBGRFkRJltRq507o0SN6/XfbuJi97ftwLCGpwW1MTsvjaFksC3Oj+ELAq8vq21dJlohIC6EkS2pUXg4FBdGrx7KKcrqv/4CdKRmNaqd3p0Ok9djDvLW9KC03n6JroMGDYcsWOHgwunGIiEjYKcmSGhUWeiVE0RrJ6rJtBQkl+9nRrfE7U09Oy2N/SQKfbOrmQ2SNMGSI96Z+8EF04xARkbBTkiU1qryysGfP6PTfY918L46UxidZQ7vto3enA8zNSaXCNbq5hqusy5o/P4pBiIhIJCjJkhpVJlndojT403PtfPZ1G8zhtl0b3ZaZN5pVsL8tq/K6+BBdA7Vq5W0CqSRLRKTZU5IlNcrPhy5dvLwg0qyinB65C8kffJ5vbZ5+WhFd2pUwNyf0lePDYvBgWLYMDhyIbhwiIhJWSrKkRtG8svB4PZaPSVZsjLen4YaiDny0IYq1WZX7GKouS0SkWQspyTKzqWa21szWm9nd1Tx/h5llm9kqM3vPzPoEPXe9meUGvq73M3gJn/Ly6CZZx+uxBk/wtd1xA3fSLqGUh+c27orFRhkwwFt47P33oxeDiIiEXZ1JlpnFAr8DLgLSgK+ZWdU9Tj4DxjjnMoCXgYcC53YG7gfGAmcA95tZJ//Cl3DZsgVKS6O3fMPxeqyO/lbdt4qrYMLgHby+si9rd3bwte2QJSTA2LGqyxIRaeZCGck6A1jvnNvonDsGvABcFnyAc+5959zhwN2PgcqilynAO865Pc65vcA7wFR/Qpdwys72bqMxkhWOeqxg5w/ZQUJsOf/7ThRHs847Dz79FIqLoxeDiIiEVShJVi9gW9D9vMBjNbkJeKuB50oTkZPj3UYjyfpPPZa/U4WV2rcu5Yaz1/Hsx4Mo2N8mLH3U6fzztV6WiEgzF0qSVd0S2dWuNGRm3wDGAA/X51wzu9XMlpnZsqKiohBCknBbtw6SkqBt28j33WPdAgDyB4UnyQL44aRVHCuP5Yl5Ddt4utHOOsubNlRdlohIsxXKjrl5QO+g+6nAjqoHmdkk4F5ggnPuaNC551U5d37Vc51zs4BZAGPGjInmUpESkJsLKSnR6bvnuvnsSxnE4U7hG/Qc1G0/X87czO8XpHH31BUkti4LW1/V+utfoU8feOklb0mH6tx6a2RjEhERX4UykrUUGGRm/cwsAZgOzAk+wMxGAU8BlzrnCoOeehuYbGadAgXvkwOPSRMXrSTLKsrpHsZ6rGB3TV7J3sOt+fOHQ8PeV7UGD4Zt2+Dw4bqPFRGRU06dSZZzrgy4DS85ygFedM6tNrOfmdmlgcMeBhKBl8xshZnNCZy7B/g5XqK2FPhZ4DFpwg4dgh07opNkdc5bSasjxewYcl7Y+zqzfyHnDszn0XdHRGfj6CFDwDkvoxURkWYnlOlCnHNvAm9Weey+oO8n1XLuX4C/NDRAibz1673baGyn03OtV6MUznqsYHdNXsmlv5/KS5/255ozNkSkz+P694e4OK8AbuTIyPYtIiJhpxXf5SSVAyvRGMk67fM32NtjWFjrsYJdMmIrQ7vv5eG5I3GRrgaMj/cSrbVrI9yxiIhEgpIsOUllkpWcHNl+Wx3cRY/chWzO/HLE+oyJgbsmr2LFtq68kxOF1UUGD4a8PG+OVkREmhUlWXKS3FxvfazWrSPbb5+V/ySmopxNo66IaL9fPyOX3p0OcverY6moiGjXqssSEWnGlGTJSXJzYdCgyPfbb8VrHOh8GrtOGx3RflvFV/DrKz7hs21defbjGpZTCJd+/bxpw3XrItuviIiEXUiF79I8zZpV/eOrVsGIEZGNJb7kAL2y55Iz/ttgkb/S72tZG5gxbzj3zM7iqtEbI7duluqyRESaLY1kyQmOHIH9+yNf9J66+t/ElR1l86jI1WMFM4PfXr2Y/OJ2PDQ3wlf6DR3q1WVpH0MRkWZFSZacoHJXo0gnWf0+e5UjScnsHHhOZDsOctaAQqZnreeRuSPZtqdd5DoePty7rdyVW0REmgUlWXKCggLvNpJJVkzpUU77/A22ZFyKi4mNXMfV+PWXl+CAH792RuQ6TU31NopcvTpyfYqISNgpyZITFAY2RYpkktVrzXsklByI+FWF1enT5SB3XriK55cM4o3Pe9d9gh9iYiA93RvJivjljSIiEi5KsuQEhYXQsSMkJESuz74rXuNY6yS2D50YuU5r8ZOLlzOi125uenYCRQcitI5Ferq3VtaWLZHpT0REwk5JlpygsDCyo1hWUU7fla+zdcQlVMS3ilzHtWgVX8Fz33yfvYdbcetz50ZmJfi0NK/6/osvItCZiIhEgpIsOUGkk6xu6z+kzYGiiK7yHoqM1D08eNlSZq/oxzOLI7B2VmIi9O2ruiwRkWZESZYcd/gwHDwY2SRryOKnKW3Vjq3DL45cpyG6fdLnTBi8g+//42w27UoKf4fp6bB5s/dDEBGRU56SLDmusui9W7fI9Bd/pJj+y/7B+qyvUdY6MTKd1kNsjOOZG+YTY46rn5pESWmYr3wcPtzbYicnJ7z9iIhIRGjFdzku0lcWDlzyN+KPHWZN4hhYuDAynYZo1sKhx7//+hm5/H7BcCb99mKuO9PbY/DW8Wv877RPH2jXzqvLysryv30REYkojWTJcQUFXu11cnJk+hu26I/sSh1JUeehdR8cRSNT93Dx8C18uKEHi9Z3D19HMTFeAbyWchARaRY0kiXHFRZCp07ednrh1nXLp3Td9hkfTJ8Zlb0K6+tLI7aweXcSLywdSGrHQyeMdFXVqFGu9HRYutTbZkdERE5pSrLkuEheWThs0SzK4tuwfuzXYdmqyHQapLYkqToxMXDzuDU8+NZonlo0jP+5eDntWoVhE+n0dO9WSzmIiJzyNF0ox0UqyYorOciAJX9jw5ivcKxtx/B36JN2rcr41rnZ7C9J4JmPB4dn/az27eG002DlyjA0LiIikaQkSwBvsfHDhyOTZA1Y9gIJRw+y5txbw9+Zz/p0OcgVozaxMq8r76/rGZ5OsrK8pRzWrQtP+yIiEhFKsgSI7JWFwxb9kT090ijof1b4OwuDiUO2M6LXbl5Z3p+te9r538EZZ3h1an/9q/9ti4hIxCjJEsC7shDCv0ZWl20rSNm8hDXn3HJKFLxXxwxuOHMtia1K+eMHw/xfP6tjRxg2DJ57TlcZioicwpRkCeCNZJlB167h7Sf9/ZmUxbdh3VnXh7ejMEtsXcZN49ZQdLANr63o638HY8d6U4Yffuh/2yIiEhFKsgTwkqwuXSAujNebtjq4m4FLnid37Dc41q5T+DqKkMHdipkwaAcLcnuydY/PK9aPGuUtTPrss/62KyIiEaMkS4DIXFk45MO/EFdawurzbwtvRxF02cjNJLYq5W9LBlLh59WGrVrBFVfASy9BSYmPDYuISKQoyRKcC3+SZRXlpC34PTsGjWdPakb4OoqwtgnlXDlqI5t2t+ejDT6vBn/ttVBcDP/8p7/tiohIRGgxUuHgQThyJExJVmBPwtPyPqT97s18knZjk9unsLHO7FfIB+t78OqKfmT23uVfwxdcAD17elcZXn21f+2KiEhEaCRLIrJ8Q/raVzjYNpnNqeeEr5MoMYNrzsjlyLE4XlvRz7+GY2PhmmvgrbegqMi/dkVEJCKUZEnYk6yOxZtJ3fkpOYMuw8U0z8HTXh0Pc/6Q7Xy4vjtrdnbwr+Frr4WyMnj+ef/aFBGRiFCSJRQUeHvzhWv5hvR1symPiSdn4LTwdNBEXJS+jYS4Cn72r9P9azQjA84+Gx59FI4d869dEREJu+Y5rCD1Url8Q6zPa2oCxJUeZtDGf7Ohz/mUtD71l22oTVLrUs4bvJ0Xlg3gfy5ZzrAe+/xp+L77YOpUePppuLXKVkSzZtV+btXjRUQkYjSSJWG9srD/1gUklB0hZ+CXwtNBEzN5WB5tE8r42RujfWx0srfVzi9/CaWl/rUrIiJhpSSrhQv38g2DN77FvqRUCpJHhKeDJiaxdRnfO/8L/rFsAKt3+DRyZwb33w9btmhxUhGRU0hISZaZTTWztWa23szurub58Wa23MzKzOyqKs+Vm9mKwNccvwIXf+zfD0ePhifJSiraQM/ClazrP/WU3aewIe68cBXtEkr5uZ+jWRddBGPGwIMPajRLROQUUWeSZWaxwO+Ai4A04GtmllblsK3ADcDfqmniiHMuM/B1aSPjFZ+F88rCIR89TYXFkNt/iv+NN2FdEo/y/QtW8+Kn/fliu4+jWffdB5s26UpDEZFTRCiF72cA651zGwHM7AXgMiC78gDn3ObAcxVhiFHCqDLJ6tatASfXsqioVZQzeP4stncfw6G2Yd6vpwm6Y9IqHp83nIfmjuTZG+f70+i0ad6ehg8+CN/4Rng3mhQRkUYLZbqwF7At6H5e4LFQtTazZWb2sZldXq/oJOwKC73lGzp39rfdngXLSTxcyNr+F/nb8CmiS+JRbh63hr8vGUje3nb+NFo5mrV+vUazREROAaH8KVxdMU19tsI9zTm3w8z6A/PM7HPn3IYTOjC7FbgV4LTTTqtH09JYhYWQnOz/8g1DNrzF0YREtvQe52/Dp4BZC4cCkJJ0mApn3PTMeK4cven487eOX9Pwxi+9FEaP9grhp09vbKgiIhJGoYxk5QG9g+6nAjtC7cA5tyNwuxGYD4yq5phZzrkxzrkxycnJoTYtPgjHlYUJxw7QN28R6/tMojy2lb+Nn0K6Jh7l9NOKWLi+B0dKfcpiY2LgV7/yrjSsa40sERGJqlCSrKXAIDPrZ2YJwHQgpKsEzayTmbUKfN8VGEdQLZdEV7iWbxiweR5x5cdYO6BlThUGmzQsj5LSOD5Y392/Ri+8EM47D37xCygp8a9dERHxVZ1JlnOuDLgNeBvIAV50zq02s5+Z2aUAZpZlZnnA1cBTZrY6cPowYJmZrQTeB37tnFOS1UTs2+ft1OJ3kjVo09vs6dCPXZ2H+NvwKahvl4MM7raP99akUl7h0zIWZt5oVmEhvPeeP22KiIjvQro8yTn3JvBmlcfuC/p+Kd40YtXzPgJaxiqUp6BwLN/Q5shuuu9azdKMm1rU2li1mTwsj5nzh7NsSzJj+xX60+iZZ3r1WXPnwoQJkJjoT7siIuIbrfjegoUjyTpt+2IAtqS2vIL3mqT33EOP9od4JycVV59LRury4IPeSrJvv+1joyIi4hclWS1YYaG31JKfyzf0zfuQA+26s6djf/8aPcXFGFyYlse2vYmsKejoX8PDh3t7Gr7/vrd0v4iINClKslqwyuUbYnz6FMSWldBr5zK2pJ6tqcIqzuhbSPvWx5ibfdKseuNcfLG3zc6HH/rbroiINJqSrBasoMDfqcJeOz8lrvwYW3ppqrCq+FjH+UO2k53fmVV5Pg4ddu8OgwfDBx9AhTZcEBFpSpRktVDl5VBU1MDtdGrQJ+9DjsW3Iz9lpH+NNiMTBuWTEFvOo+/6fC3IuefCrl2wphGLnIqIiO+UZLVQ27ZBWZmPI1mugj7bF7OtxxlUxMb71Gjz0q5VGeMG7uRvSwayfW9b/xoeNcq7urCWvSRFRCTylGS1ULm53q1fI1nJu9fQtmSPriqsw6Sh2ymvMJ54f7h/jcbHw1lnwcqVUFzsX7siItIoSrJaqHXrvFu/RrL65n1IhcWyredYfxpspromlnDV6E08uXAYB0p8HPE791yvJksF8CIiTUZIi5FK85ObC61aQYcO/rTXJ+9DdqaM4Gir9v402IzdOXkVL346gD99MJTbJ31e84H12ZuwWzcYMsQrgJ861b9LRkVEpMH0P3ELtW6dN4rlx0oLSQd20Ll4k64qDFFW3yLGD9rBY+8Np7Tcx6Uuxo+H3bshWztXiYg0BUqyWqjKJMsPfbZ/BMBm1WOF7M4LV7F1TxIvf+rjoq2ZmZCUBIsW+demiIg0mJKsFujYMdi82b8kKzV/CfuSenMgqZc/DbYAl4zYytDue3nknQz/ttqJi/P2NFy1Cg4f9qlRERFpKCVZLdCmTd46WX5cWWgV5XQv/Jwd3UY1vrEWJCYGfnjhKpZvTWb+uh7+NTxqlFcAv3q1f22KiEiDKMlqgSqXb/BjJKvL3vUklB0mv5sWIK2vb4xdT0rSYR6Z6+N716+ft2bW57UU1IuISEQoyWqBKpdv8GMkq0fhCgCt8t4ArePL+d75q3nzi9NYvaOTP43GxHgbR3/xhTdcKSIiUaMkqwXKzYXOnb0Bj8bqUbiS4sReHG6b3PjGWqDvTMimbUIp//tOhn+NZmTAoUPevLCIiESN1slqgdatg0GDfGjIVdC9cBWbe5/rQ2MtU5fEo3zz7LU8tWgYP790Kb06HWbWwqG1nnPr+Dr2KExL80a0Vq70MVIREakvjWS1QLm5MHhw49vpvG8TrY8d0FRhI91x4edUOOOx93zaOLpNG+8HrLosEZGoUpLVwhw+7G0O7cdIluqx/NGv6wG+OmYDTy4cxt5DCf40mpEB+fmwcaM/7YmISL0pyWph1q/3bv0YyepRsJIDbbtxMNHHJQhaqP+evJKDRxP4w4I0fxrMCNR4/etf/rQnIiL1ppqsFqZy+YZBg2DZskY05Bw9CleyrecZvsTVktRUc5XeYw+//ncmv7x8CQlxFY3rJDkZevSAf/4Tvv/9xrUlIiINopGsFqZy+YbGThd23LmGNkf3kZ+S2figBICp6ds4cDSBxRt9WFsDYMQIWLAA9u/3pz0REakXJVktTG4udO/ubXHXGD3WLQDQIqQ+GpRSTL8u+5mbk0p5IweyAG/KsLQU5s71oTEREakvJVktzLp1PtVj5S7gUJsu7E/UfoV+MfNGs3YdbMPyrT6sO9a/P3Tq5E0ZiohIxCnJamFyc324stA5euQu9K4qNPMlLvFkpO6me/vDvJ3du/EbR8fGwpQp3kiWb7tQi4hIqJRktSB790JhIQwZ0rh22hdtoN2+HarHCoMYg8lp29i2N5HsfB+22pk0CXbuhOzsxrclIiL1oiSrBcnJ8W6HDWtcOz1yFwKqxwqXM/oW0rHNUd7O7t34xiZN8m7ffbfxbYmISL0oyWpB/EqyUjYupqRtJ/a179P4oOQk8bGOScPyWFvQkU27GnmFQp8+MHCgkiwRkShQktWC5ORAq1bQt2/j2knZ9AmF/caqHiuMzh24k7YJpbydndr4xiZN8pZyKC1tfFsiIhIyJVktSE6OV48VG9vwNuJLDtB5xxcU9RvrX2Byktbx5UwYlM+KbV3Zub9N4xqbOBEOHIClS/0JTkREQqIkqwXJyWn8VGHXLcsw5yjod6Y/QUmNLhi6nbjYCuY2djTr/PO9UUdNGYqIRJSSrBbiyBHYvLnxSVa3jR8DUNRP2+mEW/vWpZzdv4BPNnVj/5H4hjfUpQuMHg3vvedfcCIiUqeQkiwzm2pma81svZndXc3z481suZmVmdlVVZ673sxyA1/X+xW41M/atd5SSY0uet/0Cfu6DeZou87+BCa1umDodsoqYli4vpGbcE+aBIsXw8GD/gQmIiJ1qjPJMrNY4HfARUAa8DUzS6ty2FbgBuBvVc7tDNwPjAXOAO43Mx8W/5H68uXKQudI2fQxhZoqjJju7Y+Q3mMPC9b1oKy8ERcaTJzoFb4vWuRfcCIiUqtQRrLOANY75zY6544BLwCXBR/gnNvsnFsFVN1xbQrwjnNuj3NuL/AOMNWHuKWecnIgJqZxW+ok7t5C2/0F3pWFEjEXDN3O/pJWLGvMVjvnnONdWqopQxGRiAklyeoFbAu6nxd4LBSNOVd8lJ3tbWXXqlXD20jZ9AkABf01khVJaT320i3pMPPW9Gr47jht2sC4cSp+FxGJoFCSrOrmKEL9rz6kc83sVjNbZmbLioqKQmxa6sOPKwu7bfqYsvjW7Ok1wp+gJCQxBucP2c6WPUlsbMzipBMnwsqV3t5KIiISdqEkWXlA8P4eqcCOENsP6Vzn3Czn3Bjn3Jjk5EZMiUi1ysq8jaEbm2Qlb/qEoj5jcLGNuNJNGuSs/gW0iS9j3tpGDARXbrHz/vv+BCUiIrUKJclaCgwys35mlgBMB+aE2P7bwGQz6xQoeJ8ceEwiaMMGr+a5MUlWTNkxum5drnqsKGkdX8G4ATtZvjWZvL3tGtbI6adDx44wd66/wYmISLXqTLKcc2XAbXjJUQ7wonNutZn9zMwuBTCzLDPLA64GnjKz1YFz9wA/x0vUlgI/CzwmEeTHlYVd8lYSV3ZUVxZG0XmDd+Ac/GFB1Yt7QxQbC5Mnw1tv0fDiLhERCVVI62Q55950zg12zg1wzj0YeOw+59ycwPdLnXOpzrl2zrkuzrn0oHP/4pwbGPj6v/C8DKlNZZI1dGjD20gJLEKqkazoSU4qISN1N08tHMaRYw3cG+miiyA/36vNEhGRsIqLdgASfjk50LMndOhQj5MWLjzhbson/+RQm64c+nwj2CZ/A5SQTRyynUffG8nflw7km+PW1r+BqYEVVN58EzIz/Q1OREROoCSrGZs1y7tduNBLsCrvN0TKrmwKuw7z9sCTqBncrZjhPffw+Lzh3Hj22vr/OLp392qz3nwT7rknLDGKiIhHexc2c87Bzp3e79aGalWyjw4Ht1PYpYG1QOIbM/jBxM9ZldeFBesauNXOxRd7W+zs3etvcCIicgIlWc3c3r1w9Cj0aMTWdym7vaKugq7pdRwpkfD1M9bTpV0JM+YNb1gDF18MFRW6ylBEJMyUZDVzO3d6t40Zyeq2K5sKi2VXl0bsySO+aZNQzq3n5vD6yj5s3pVY/waysqBLF2/KUEREwkZJVjOXn+/dNmoka1c2ezr2oyyujT9BSaN9Z0I2ZjBzfgNGF2NjYcoUbymHiqrbjYqIiF+UZDVz27dDYiIkNXQ3FldByu4c1WM1Mb07H+LKUZv40wdDOVjSgOtXLr4Yiorg00/9D05ERAAlWc3etm2QmtrwiwI77t9KQukhCrsqyWpqfjDxC4qPtOKvnwyq/8lTpngfirfe8j8wEREBlGQ1a+XlsGOHl2Q1VMqubABv+QZpUs7qX8DppxUxY97w+i/g3rUrjB2ruiwRkTDSOlnNWEGBtzl07951H1uTlF05HI1PZF/70/wLTHzhLefwBdf93/m8k9OLyWnbTz6otsXRkpPhX//ypg21MbuIiO80ktWM5eV5t40aydqdTVGXoWD6qDRFXzl9A93aH+bx90bU/+Thw72F1N54w//ARERESVZztm2bdStnOwAAIABJREFUdyFZQ5dviCs7Qud9GylQPVaT1Sq+gu+Mz+bNL04jt6B9/U4+7TRv2vC558ITnIhIC6ckqxnLy/P2LIxr4KRw8u61xLgKFb03cd8an0N8bDlPvF/PxUljYuDMM2HePNi6NTzBiYi0YEqymrG8PJ+K3ruo6L0p697hCNOzNvB/Hw2m+Eh8/U4+6yxvyvCvfw1PcCIiLZiSrGaqoAD27298PVZxYi+Otu7oX2ASFj+44AsOHk3gj4vqmRB37QoTJsAzz1D/SxRFRKQ2SrKaqZUrvdsGX1noHCm7sjVVeIo4vc8uJg3L4+G5GRw+Flu/k6+/HnJz4eOPwxOciEgLpSSrmapMsho6ktXucBHtjuxWknUKuX/apxQeaMuTC+r5M7vqKmjbFp5+OixxiYi0VEqymqkVK6BTJ2jXrmHnp+xaDWgR0lPJOQMLmDg0j4fmjqzfaFZSElx5JfzjH3DkSPgCFBFpYZRkNVMrVza2HiuHspgEdncc6F9QEnb3T1tOwf62PLWwnqNZ118PxcUwZ054AhMRaYGUZDVDJSWwZk3jkqxuu7LZ1XkQFbH1vFpNourcQTu5YMh2Hnp7JEfqM5p1/vleAZ+mDEVEfKMkqxnKzvb2LWxo0XtM2TG67lmreqxT1P3TPmXn/rbMqs+VhjExcN11MHeut4qtiIg0mvYubIZWrPBuGzqSlbx5KXHlxyhIbsBWLRJ2sxYOrfX5W8ev4fwh2/nVvzO58ey1tG9TGlrDN98MDz0Ev/wl/OEPPkQqItKyaSSrGVq50it4b+ievz3Xvg/AjpSRPkYlkfSbK5ZQeKANP3tjdOgn9e0Lt9wCf/oTbNwYtthERFoKJVnN0MqVMGKENwPUED3Xvs+uTgO1COkpLKtvETePW8Pj740ge0c9fo733uvtw/TAA2GLTUSkpVCS1cw45yVZIxs4CBVTepRuGz8iv9sofwOTiPvll5eQ1PoY3//H2aEv5t6zJ3zve96m0atXhzU+EZHmTklWM7NuHezbB1lZDTu/26aPiSstYYeSrFNe18Sj/OKyZby3JpVXlvcL/cQf/QgSE+G++8IXnIhIC6Akq5n56CPv9uyzG3Z+z7XvU2Ex5Kdk+BeURM23xueQ2XsX/7+9O4+PqjobOP57MpM9hEBIWAMhrLLJJoIobqiIuLXU3eLylrrUrdpK1dq+vuW1Wm2ty9tXUKxrK/iqoEIVQUFlEcImq2xhkTUhgeyZzJz3j3PThJhJJjGTZCbP9/O5n7nce+7MM5ebmWfOOfecX84ZQ2FpgPe5JCfD/ffDu+/C6tXBDVAppcKYJllhZvlySEqCfv0adnznbZ+RkzaMsqg2jRuYahauCMPz13zFvtwEpr07KvAD77vPJlsPP6wTRyulVANpkhVmli2DMWMa1undVVZMx90rONDv3MYPTDWbsb0Pc9/5G3j+80HMW98jsIMSE+GRR+y4WW+9FdwAlVIqTGmSFUby8uxApGPGNOz4jjuX4Sov40D/8xo3MNXsHr/ya4alZXPzq2fzXW5cYAfddZdtd77zTh2gVCmlGkAHIw0jK1falp2G9sfqum0xvggXh3qfCV+vbdzgVJPxN1jplUN3M33BcG6YdR6f3vcRrginGXDGDP9PNnEiZGbCTTfBwoUNHxdEKaVaIf3EDCPLl9vvwFH16HpTVedtn3G0x2l4YrQ/VjjqmFjMtaft4PNvu/DfC4YGdlBKClx1FSxeDM8+G9wAlVIqzGiSFUaWLbODkLZpQI7kLikgNWuV9scKc6N7Hub6Udv53QcjAx/WYexYuOwymDZNx85SSql6CCjJEpEJIrJNRHaIyLQa9keLyNvO/pUiku5sTxeRYhFZ5yz/27jhqwper20ubGh/rE47viTCV65JVpgTgZk3LrXJ1svn8tWOjgEeNNN2hr/2WigsDH6gSikVBupMskTEBbwAXAwMAK4VkQHVit0K5BpjegN/AZ6osm+nMWaos9zWSHGrajZvhhMnftj4WF5XJId6j23cwFSLExvlZd6dH9MjuYDL/ucith1qW/dBqamVo8DfdJMO66CUUgEIpCZrFLDDGLPLGFMG/BO4vFqZy4FXnfV3gPNFRBovTFWX5cvtY0NrsrpsW8yRnqfjjQrwzjMV0joklLLgrgW4I3xMePZiDh6Prf2AGTMgKwuuvBLeecc+zphx8qKUUuokgSRZXYGq92/vd7bVWMYYUw4cB5KdfT1FZK2ILBGRs35gvMqPZctsH+Vevep/bPyxvaTuWc2+QRMbPzDVYmWk5PPRL/7F0YJYznn60sCGdrjgAntnxbx5dpJMpZRSfgWSZNVUI1W9rcBfmYNAd2PMMOCXwFsikvi9FxCZKiKrRWT10aNHAwhJVbd8ua3Fakj9YUbmOwDsHHlVI0elWqIZS/v/e1mztwN3jNvE3pwEhv7hx+zJSaj9YBG48UZIS4NZs+DgwaYJWimlQlAgSdZ+IK3Kv7sBB/yVERE30BY4ZowpNcbkABhjMoGdQN/qL2CMmWGMGWmMGZmSklL/d9HKZWfbiaEb2h8rI3M2R7uPID+lAdVgKuT1Tj3Bved/Q1GZm3FPXcrOo3XcnhoVBbffDpGR8PzzkJ/fNIEqpVSICSTJWgX0EZGeIhIFXAPMq1ZmHjDFWZ8MLDbGGBFJcTrOIyIZQB9gV+OEriqsWGEfG9IfKyE7i467V7JrxE8aNygVUnp2yOe+87+hoDSSs/50GWv3Jtd+QPv2diT448fhhRegrKxpAlVKqRBSZ5Ll9LH6BfAxsAWYbYzZJCKPichlTrGXgWQR2YFtFqwY5mEcsEFE1mM7xN9mjDnW2G+itVuyxFYqjBxZ/2Mz1timQk2yVPf2BSy5/wPcEYZxT13Kgo1ptR/QsyfccovtED9rFvh8TRKnUkqFioDGyTLGzDfG9DXG9DLGTHe2PWqMmeeslxhjfmKM6W2MGWWM2eVs/z9jzEBjzKnGmOHGmA+C91ZarwUL4OyzIa4BNwZmZM7mSI+R5KdkNH5gKuQM6prLimnv0zv1BJe+cJHfKXr+bfhwmDwZ1q6FX/+6aYJUSqkQoSO+h7g9e+zQRRMbcGNgm+zdpGatYtcI7fCuKnVJKmLpAx9w4YD9/PzNcfxy9mg83lruqDj/fDj3XHj6adt0qJRSCtAJokPeggX2sSFJVs9MbSpUNWsT42HeHR9z/zuj+cuiIazZ14G3f7aIuet61FheOv2WC4ck0OPuu6FHD5g0qYkjVkqplkdrskLcRx9BRgb0/d49m3XLyJzNkfRRFHRIb/S4VOhzuwx/vXo5r9+8mK93pzJi+pXszq75zkMT4WLRf/wDhg2Dq6+GzMwmjlYppVoeTbJCWEkJLFpka7HqOz5Wm6O7SN2zWmuxVJ1uGL2DZQ/OJdLl46mFp7J0e6cay5VHx8OHH9pRcSdNgr17mzhSpZRqWTTJCmFLlkBxccOaCjMy5wDaVKgCMzQth8yH36Nvxzze/Lovr63oU3M/rU6dbPVqxYV5/HjTB6uUUi2E9skKYfPnQ0wMnHNO/Y4Tn5f+X87kUK8zKEiuuY+Nap3qupvwrnM2Mm9DOgs2dWd/bgK3jdtM+/hSu3PpUmCrXb/lFnj2WRg9Gu66C9xumDo1uMErpVQLozVZIWz+fDjvPIitY27f6tLXvkfbozvZMP7+4ASmwlZEBFwxNIvbx23i8IlY/rBgOJsPJn2/YP/+dvqdrVvhjTfAVJ+JSymlwp8mWSFq+3bYsQMuuaSeBxrDqZ88SV5qH/YMvTwosanwNzQth4cuXkvbmDKeXTyY+RvT8FXPo8aMsX2zli+3vwiUUqqV0ebCEFXxnXXxxfU7rvO3S0jNWsXSUfdjvvyq8QNTrUbHxGKmTVjLGyv7Mnd9T3ZnJ3LdqJ0kxnoqC02aZCfXnDfP1mjdcEPzBayUUk1Mk6wQNX8+nHIKLFxYv+NO/eRJitqksj3jouAEplqVaLePW87YSkaHE8zOzGD0E1cw746P6Z16whYQsc2Gubm2n1a3bvXvRKiUUiFKmwtDUE4OfP55/e8qbL9/A903LmDjeffgdUUHJTbV+ojAuf0OcO9533D4RCyjHr+CRVu6VBZwu+G226BPH7jyStiypfmCVUqpJqRJVgh6/XUoK4MpU+p33JCFT+GJjmfz2bcHJzDVqvXrdJxVv3mPrklFXPTsRF5cekrlzrg4O7RDdLT9dXD4cPMFqpRSTUSTrBBjDMycCaefDoMHB35c/LG99P76H2w5cypl8e2CF6Bq1TJS8ln24FwuGrCf2948i0feH1l5Y2F6uh2s9MgRuPRSKCxszlCVUirotE9WiFm+HDZvhpdeqt9xIz58DIBvxt8bhKiUsirG2Zo0OIsTxZFMXzCcxdu6cOPp23EtXcrUcVvhppvgb3+DsWNtM2JEld96OpaWUiqMaE1WiJkxAxIS7PRwgUrZvZL+X73MN+ffQ2H77sELTimHKwJuOH07lw7JYvmuTjz/+UBKPC6789RT7QW8fj3MmdO8gSqlVBBpkhVC8vJg9my47jqbaAVCfF7OfOtOCtt2Zs2k3wU3QKWqEIFJg/fy09Hb2HqoHU8tHMLB487IueeeC+efD4sX2wk4lVIqDGmSFULeestOCVefFpX+X75Eyt5MVkx+Ck9Mm+AFp5QfY3sd5s6zN3IkP44xT1zB1kNt7Y7Jk2HoUFubtW5d8waplFJBoElWiKjo8D5sGIwYUUfhpUth6VKiF37AaXN+zYHUoews7vrv7XaOOaWazqCuufxy/HqKy1yMffJyvtrR0fbFuvVW2yH+pZdg9+7mDlMppRqVJlkhIjPT/tj/2c8CP2bUuplEeQr56rR7bNuNUs0oPbmA5Q/OJTm+hPHPXMJ7a9MhKgruuAPatoVnnoFPP23uMJVSqtFokhUipk+3/bCuuy6w8qlHN9J/x4ds7PcjcpMyghucUgGqGOJhaLccfvziBTz/2UBITIQHHoAOHew8Ua+91txhKqVUo9AkKwR89hm8/z489JD9wV+XyLICzlv2B/LjO5I55ObgB6hUPXRIKGXRLz/ksiF7uOufY3ngndMpT2xvE62zz7aj7E6fTuUAW0opFZp0nKwWzuuF++6DHj3sYyDOXPUMCYVHmHfBs3gi44MboFL1UDGOFsCEAXs5XhzJ0wtP5YMNPfiPsVv41fzbbT+tRx6BFStsE2KvXs0YsVJKNZzWZLVwr7xihxN68kmIiam7fJ8Vr9MnayGZg6dwJGVQ8ANUqoEiIuDa03Zy05it7M5uwx/mD2fpiijbXPj003aCzgED4OGHdXR4pVRIEtPCquRHjhxpVq9e3dxhtAgnTkDfvtC7N3zxRc1912fMqFxPPLKDH/1hGDmJGXw4/hlMhKvpglXqB/guN44XvxhAdlEcv/oV/Pa3EJd3AKZNs5N1du0KP/853HADLFxY9xPqyPFKqSYiIpnGmJE17dOarBbs8cftPLp/+UvdNwdGeEo57+XrMC43i8c+ogmWCild2xXx0MVrmTIF/vhHOy/nJxu72FqtL7+0vzYefRQyMmy17pIlcOxYc4etlFK10iSrhVqyxLaY3HgjnHZaHYV9Ps595aekZq1iyY0vUxjfsUliVKoxxUR6eflle6OH2w0XXQRXXQWb2421I8Pv2WN/eRQV2ZF5f/MbeOwxePdd+PZb24FRKaVaEG0ubIG2b4fRoyE11baQxMXVXn70nPsZ8umfWfmjJ1h/0a91sFEVsqaO2wpAqSeCP/5rKH9aeCpFZW5+MnwXj1yyhsFdc+1dhwcPwqZN8M039g/G57OdFgcMgEGDbHVY587N/G6UUq1Bbc2FmmS1MMeO2QQrN9feXFXXtG6DPn2GM+bcx8Zz72LZ1X+17YqaZKkQVZFkVcguiOYvnw7huc8Gkl8Sxdl9DzBl9LdMHrGbNjEeW6i4GLZuhY0b7ZKXZ7ePGgWXXw6XXQYDB+qAvEqpoNAkK0SUldkmkmXLbOvI2LEnd2yvrmfmHMbPvJqsoVfy6dTZlf2wNMlSYaaw1M2S7Z3ZfLAd248kERtZzqQhexjf/zvO63+AXiknbA5lDOzfb2u15s6FVavsE3TtaielrljS0xs96artbxW0L75S4aq2JEvHyWohjh61o7l//jm88YZNsGoz4LMXOGP2PRzOOIPFt7yhHd1VWIuPLmfioH28d/tCVu5O5dXlfZm3oQdzMu0YWt3aFTC0Ww79O+XRv1Me6VPOpv3Eh2nvOUzS8vlELPkcs+ALeGMuBsEkJmH6nwL9+0O/fpCejnRPswPStWmDiM3B3G6IjLSPWhGmlKovTbJagOXLbQff7GyYNQuuv95/WfF6OOPtexi45G/sGXIpi299E29UbNMFq1QzmvmFHcx0WFo2Q7tlcyQ/lq2Hkvj2SFv2HEtg4ZaulJa74fWKIzoCNztLFSeAr50lQJGRhshIISrKJl6Rkfx7PTbWtlrGxto+lElJ0K6dXVJSoKPei6JUq6RJVjMqK4PnnrNDAXXvbpsJhw3zXz66IIfxM35C122fse6iB1l1xXStwVKtlgh0TCymY2IxZ/c9yNRxW/H6hD05Cewdey25ubZvY16e7Re/cmWVY3ftBAExhsjyYqJK8xnSbh8UFWIKiqCwEJ8Pyo+dwOMVPERS5onG06YjnpQulKV0xZPckbKE9ni8LoqKbLew3FzbWnn8+Mk3O7rd8OKLMGSIXQYPto+dOmkNmVLhTPtkNYPSUjuS++OPw969tl/uq6/aX7/VzZgBEeVlnPLFDIZ/9BhRhXksPf0BtmdMaPrAlWptjI82hYdJzt3OhW1WwL59kJVlRwoG2/dr+HAYPZpP80/nSPooCpJ74DNCfr69keXwYfjuOzvC/YYNcOBA5dOnpMDQoXYZNszeHNm3r60RU0qFhh/c8V1EJgB/BVzAS8aYP1bbHw28BowAcoCrjTFZzr7fALcCXuBuY8zHtb1WuCZZxsDatXai51desb92x4yxY2ANGODn16zPR0bmHE6b+zBtj+7kQN+zWd7rBnLa923y+JVSDmNIKDxMas5mUrM3k5q9hQ7HvsXtKwOgzB1Hbtt08tr2IC+xO4XDz6IwqQtFSV0piU8mzxPL3sMx7P8ugu++sz+0Dh0Cj3OzpIjtGtarl+2v36WLHY0iMdE2RcbH25qxsjK7eDzw8ce25qy8vHLxeCqXPn2gpMSWcbvB5bKPFYvLZZ+7QwdITrZL1fXERK1xU8qfH5RkiYgL+Ba4ANgPrAKuNcZsrlLmDmCIMeY2EbkGuNIYc7WIDAD+AYwCugCfAn2NMX5HDQyXJMvjgc2bITPT3uA0f779MI2IgHPOsU2E48fDzJknHydeD122fU76uvfpsX4uCXnfkdN1MF//6An2DZxg59dRSrUoEV4P7fN2kpKzlXbHs5xlD3El/kelL3dH442KpTwylsj2iWyNGMBW04+t5b3ZUppBVllnDpR14GBxEh5fw3p2VHTcT0y0lW4REScnYxXrJSU2YfP3dRATA926QVrayUvVbUlJmoip1umH3l04CthhjNnlPNk/gcuBzVXKXA783ll/B3heRMTZ/k9jTCmwW0R2OM+3vCFvpLkYY5v4iopOXvLzbWf17Gx7d+D+/bYlISsLdu2yxwAkJNi7xn//e5h0iSElJh9ycmDNMbptPErbI9/S7uBmkg5uocO+dUSVnKA8MpZ9AyewYuTV7B4xWfteKdWC+VyRZCf3Jzu5/0nbIz2FxBXnEFeUTXxxNtGlJ3B7y3B7S3F5S+1jSnvcnhISPMWMLtvAWM9KXO4SIiMLiSaXSE8u+WXR5NOGIuIoJJ5y3ERSjjcmnvKYeLyxCXjS+1KW1IHydh0pT+6It00ivuh4PNEJ3DA1zmZAPp9djDlp/c3XvJhyL8VFPgoKoKgQCgohvzCCgsII8ooiyT4RzYHtUWzIjCI3PxKfOTmjio/zkdbZS1oXL926+Ejr6qNTR0NSoo+kNl4S471Euby4I3y4xXvS4sJLSYlN9oo9bruUuSgpd1PscVFQ4qawxEVBsZvC4ggKiiMoKHJRWAgFBXb+8IJC+5nr9YLP6zz67Oe0z4BgcEUYXOI8Rvhol2RsPBEGt8t5jPDZhXLcxoPbV1ZlKcVdXorbW2IfPcW4y0twe0txe4pwi/Pe3OCOFNxREZWP0S7cA/riToipXNrE4m4TS0y7WGKS44lpG01MrBATw/cWd6j2oDbG/mdUZPTVH2vaBt+/u6T6EhEaE9YE8t/WFdhX5d/7gdP9lTHGlIvIcSDZ2b6i2rFdGxxtIxk2rLJjasXnjL+lvNzeNRRI17X27SE9+gCnHF/PpMgshkWvZ5BnDX0823D/y0PERx4ifOUnHTPReSyJa0de51PYedo17B00kf0DLsAbVcdQ70qpFs0TGc/xyHiOJ3b/Qc8T4S0jtjSPuKIc4ouPEleUg7v4KG2LsokrPkR8YTbxaxcQVXKi5ieYVvvz13JDc43KcXGITuwjjf10Yx9p7CtKY99Ou2wkjUN0wgRh5rZoSoinkAQKTlq6UUg0pbjwEoHve48GwYuLcps+2SXbffK/cVPC97fZpQ0ekikXN+VEVtnuoty4saliHT+G1zf8fbucV42QivdkcIl9bxFiqrxfHxHiQ7BfWoJhfMxXvJj8UOUXWdUvtMZYr0jaa0qkgjXdVUREzclXxXgrFdWqffrY9vRmEkiSVVMFcPWUw1+ZQI5FRKYCFUP1FYjItgDianGOHYNjwJrAD+kAZANQlAs7l9nlizpGNQxPledC6bmopOeiUgs6F17gO2dpWqV26XCsuc5FM90r5nWWk17frtd5XcwosEtY8fls1WVFk5H1/XOxe3dTtGP38LcjkCRrP5BW5d/dgAN+yuwXETfQFptvBHIsxpgZQKvLLERktb923NZGz0UlPReV9FxU0nNRSc9FJT0XlVriuQikLncV0EdEeopIFHANMK9amXnAFGd9MrDY2B7184BrRCRaRHoCfajX8H9KKaWUUqGpzposp4/VL4CPsUM4zDLGbBKRx4DVxph5wMvA607H9mPYRAyn3GxsJ/ly4M7a7ixUSimllAoXAd2vYIyZD8yvtu3RKuslwE/8HDsdmP4DYgxnra6JtBZ6Lirpuaik56KSnotKei4q6bmo1OLORYsb8V0ppZRSKhyExkATSimllFIhRpOsIBKRNBH5TES2iMgmEbmnhjLniMhxEVnnLI/W9FzhQkSyROQb571+b2h/sZ4VkR0iskFEhjdHnMEmIv2q/J+vE5ETInJvtTJhe22IyCwROSIiG6tsay8iC0Vku/PYzs+xU5wy20VkSk1lQomfc/EnEdnq/A28JyI1zGxa999TqPFzLn4vIt9V+TuY6OfYCSKyzfnsqGNksJbPz7l4u8p5yBKRdX6ODbfrosbv0pD4zDDG6BKkBegMDHfW22CnJxpQrcw5wIfNHWsTnpMsoEMt+ycCC7BjrI0GVjZ3zE1wTlzAIaBHa7k2gHHAcGBjlW1PAtOc9WnAEzUc1x7Y5Ty2c9bbNff7CcK5uBBwO+tP1HQunH21/j2F2uLnXPweeKCO41zATiADiMIO+zkgmLE2x7motv9p4NFWcl3U+F0aCp8ZWpMVRMaYg8aYNc56PrCFFjDifQt3OfCasVYASSLSubmDCrLzgZ3GmD3NHUhTMcYsxd6JXNXlwKvO+qvAFTUcehGw0BhzzBiTCywEJgQt0CZQ07kwxnxijKmYHmIFdozBsOfnugjEv6d/M8aUARXTv4Ws2s6FM23dVdi5gcNeLd+lLf4zQ5OsJiIi6cAwYGUNu8eIyHoRWSAiA5s0sKZngE9EJNMZ6b+6mqZxCvfE9Br8f1i2pmujozHmINgPVSC1hjKt8fq4BVu7W5O6/p7CxS+cptNZfpqEWtt1cRZw2Biz3c/+sL0uqn2XtvjPDE2ymoCIJAD/B9xrjKk+udgabDPRqcBzwPtNHV8TG2uMGQ5cDNwpIuOq7Q9oKqZw4Qzwexkwp4bdre3aCERruz4exo4x+KafInX9PYWDvwG9gKHAQWwzWXWt6roArqX2WqywvC7q+C71e1gN25rs2tAkK8hEJBJ7UbxpjHm3+n5jzAljTIGzPh+IFJEOTRxmkzHGHHAejwDvYav5qwpoKqYwcjGwxhhzuPqO1nZtAIcrmoadxyM1lGk114fTQXcScL1xOpdUF8DfU8gzxhw2xniNMT5gJjW/x9Z0XbiBHwFv+ysTjteFn+/SFv+ZoUlWEDnt5i8DW4wxf/ZTppNTDhEZhf0/yWm6KJuOiMSLSJuKdWzn3o3Vis0DfurcZTgaOF5RHRym/P4ibU3XhqPq9FxTgLk1lPkYuFBE2jnNRhc628KKiEwAHgQuM8YU+SkTyN9TyKvWJ/NKan6PgUz/Fi7GA1uNMftr2hmO10Ut36Ut/zOjue8aCOcFOBNbLbkBWOcsE4HbgNucMr8ANmHvhlkBnNHccQfxfGQ473O9854fdrZXPR8CvIC9U+gbYGRzxx3E8xGHTZraVtnWKq4NbGJ5EPBgf2neCiQDi4DtzmN7p+xI4KUqx94C7HCWm5v7vQTpXOzA9iOp+Nz4X6dsF2C+s17j31MoL37OxevOZ8EG7Jdq5+rnwvn3ROxdZzvD9Vw42/9e8RlRpWy4Xxf+vktb/GeGjviulFJKKRUE2lyolFJKKRUEmmQppZRSSgWBJllKKaWUUkGgSZZSSimlVBBokqWUUkopFQSaZCmllFJKBYEmWUqpFkdE/i4ik4PwvA9VWU8XkWYfpFFEssJ8JH+lWi1NspRSrclDdRcJHmdKFKVUK6FJllKqwUTkfRHJFJFNIjJVRG4XkSer7L9JRJ5z1n8rIltFZKGI/ENEHgjwNUaIyBLndT6uMlfZ5yLyhIh8LSLfishZzvY4EZktIhtE5G0RWSkiI0Xkj0CsiKwTkYoJl10iMtMMNhn1AAADhklEQVSJ/xMRifUTQ6qIZDrrp4qIEZHuzr93Oq/ZQ0QWOa+7qMr+v4vIn0XkM+AJEUl2XmutiLyIM4GtMx3KRyKyXkQ2isjV9f8fUUq1JJpkKaV+iFuMMSOw01jcDbyLnby2wtXA2yIyEvgxMMzZPzKQJ3cmhX0OmOy8zixgepUibmPMKOBe4HfOtjuAXGPMEOC/gBEAxphpQLExZqgx5nqnbB/gBWPMQCDPifF7jJ1oN0ZEEoGzgNXAWSLSAzhi7PyCzwOvOa/7JvBslafoC4w3xtzvxPmlMWYYdpqY7k6ZCcABY8ypxphBwL8COUdKqZZLq66VUj/E3SJypbOeBvQEdjmTe28H+gFfAfcAc40xxQAi8kGAz98PGAQsdObKdmHnc6vwrvOYCaQ762cCfwUwxmwUkQ21PP9uY8y6Gp6jJsuAscA44L+xSZEAXzj7x1CZYL4OPFnl2DnGGK+zPq6inDHmIxHJdbZ/AzwlIk8AHxpjvkApFdI0yVJKNYiInAOMB8YYY4pE5HMgBngbuArYCrxnjDHiZEgNeRlgkzFmjJ/9pc6jl8rPs/q8VmmVdS9QY3Oh4wtsLVYPYC7wIHbS2g/9lK86MWxhLfvsBmO+FZER2IlvHxeRT4wxj9UevlKqJdPmQqVUQ7XFNssViUh/YLSz/V3gCuBabMIF8CVwqYjEiEgCcEmAr7ENSBGRMWCbD0VkYB3HfIlN8hCRAcDgKvs8ThNkQywFbgC2G2N8wDFsQvSVs38ZcI2zfr0Th7/nud6J72KgnbPeBSgyxrwBPAUMb2CcSqkWQmuylFIN9S/gNqc5bhuwAsAYkysim4EBxpivnW2rRGQesB7Yg+3TdLyuFzDGlDlDOTwrIm2xn1nPAJtqOex/gFeduNYCG6q81gxgg4isAR6uz5s1xmQ5FXJLnU1fAt2MMRXNfXcDs0TkV8BR4GY/T/WfwD+cGJYAe53tg4E/iYgP8AC31yc+pVTLI8Z8r9ZaKaUanYgkGGMKRCQOm6hMNcasCcLruIBIY0yJiPQCFgF9jTFljf1aSilVG63JUko1lRlO810M8GowEixHHPCZ0ywowO2aYCmlmoPWZCmlmo2IvIC9Y6+qvxpjXmmOeKBlxqSUCk2aZCmllFJKBYHeXaiUUkopFQSaZCmllFJKBYEmWUoppZRSQaBJllJKKaVUEGiSpZRSSikVBP8PZLm0Hevq5wcAAAAASUVORK5CYII=\n",
      "text/plain": [
       "<Figure size 720x360 with 1 Axes>"
      ]
     },
     "metadata": {
      "needs_background": "light"
     },
     "output_type": "display_data"
    }
   ],
   "source": [
    "fig,ax=plt.subplots(1,1,figsize=(10,5))\n",
    "sns.distplot(tweets[tweets['target']==1].avg_length_words,label='Desastre real',color='red')\n",
    "sns.distplot(tweets[tweets['target']==0].avg_length_words,label='Desastre falso',color='blue')\n",
    "ax.legend()\n",
    "fig.suptitle('Longitud promedio de las palabras del tweet')\n",
    "plt.show()"
   ]
  }
 ],
 "metadata": {
  "kernelspec": {
   "display_name": "Python 3",
   "language": "python",
   "name": "python3"
  },
  "language_info": {
   "codemirror_mode": {
    "name": "ipython",
    "version": 3
   },
   "file_extension": ".py",
   "mimetype": "text/x-python",
   "name": "python",
   "nbconvert_exporter": "python",
   "pygments_lexer": "ipython3",
   "version": "3.7.3"
  }
 },
 "nbformat": 4,
 "nbformat_minor": 4
}
